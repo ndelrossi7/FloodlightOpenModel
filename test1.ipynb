{
 "cells": [
  {
   "cell_type": "code",
   "execution_count": 146,
   "metadata": {},
   "outputs": [],
   "source": [
    "import pandas as pd\n",
    "import warnings\n",
    "warnings.filterwarnings(\"ignore\")\n",
    "import numpy as np\n",
    "from sklearn.model_selection import train_test_split\n",
    "import os\n",
    "os.environ['KMP_DUPLICATE_LIB_OK']='True'"
   ]
  },
  {
   "cell_type": "code",
   "execution_count": 147,
   "metadata": {},
   "outputs": [],
   "source": [
    "df = pd.read_csv('CombinedTestResultMetric.csv')\n",
    "df.drop(['participantCreatedOn', 'testResultMetricCreatedOn', 'testResultMetricTimestamp1', 'testResultMetricTimestamp2', 'Unnamed: 19'], axis = 1, inplace = True)\n",
    "df['testStartedAt'] = df['testStartedAt'].apply(lambda x: pd.to_datetime(x[0:-10]))\n",
    "df['testEndedAt'] = df['testEndedAt'].apply(lambda x: pd.to_datetime(x[0:-10]))\n",
    "# df['timecomplete'] = (df['testEndedAt'] - df['testStartedAt']).apply(lambda x: x.seconds)"
   ]
  },
  {
   "cell_type": "code",
   "execution_count": 148,
   "metadata": {},
   "outputs": [],
   "source": [
    "df['age'] = [df.testStartedAt[i].year - df.participantBirthYear[i] \n",
    "                    for i in range(0, len(df))]\n",
    "df.drop(['participantBirthYear', 'testStartedAt', 'testEndedAt'], axis = 1, inplace = True)\n",
    "\n",
    "# df['participantSex'].replace(['male', 'female'], [0, 1], inplace = True)\n",
    "\n",
    "df['participantIsControl'].replace([True, False], ['HC', 'MS'], inplace = True)"
   ]
  },
  {
   "cell_type": "code",
   "execution_count": 149,
   "metadata": {},
   "outputs": [],
   "source": [
    "def aggdf(df, agg, colname):\n",
    "    agg = df.groupby(['floodlightOpenId', 'testCode', 'testMetricCode']).agg('{}'.format(agg))[['testResultMetricValue']]\n",
    "    agg.columns = ['{}'.format(colname)]\n",
    "    agg_reset = agg.reset_index()\n",
    "    agg_reset['test'] = agg_reset['testCode'] + agg_reset['testMetricCode']\n",
    "    aggtest = agg_reset.drop(['testCode', 'testMetricCode'], axis = 1)\n",
    "    aggtest = aggtest.set_index(['floodlightOpenId', 'test'])\n",
    "    aggtest = aggtest.reset_index()\n",
    "    aggtest = aggtest.pivot(index='floodlightOpenId', columns='test', values=['{}'.format(colname)])\n",
    "    aggtest.columns = [col[0]+col[1] for col in aggtest.columns]\n",
    "    return aggtest"
   ]
  },
  {
   "cell_type": "code",
   "execution_count": 150,
   "metadata": {},
   "outputs": [],
   "source": [
    "meantest = aggdf(df, 'mean', 'val_mean')\n",
    "vartest = aggdf(df, 'var', 'val_var')"
   ]
  },
  {
   "cell_type": "code",
   "execution_count": 151,
   "metadata": {},
   "outputs": [],
   "source": [
    "count = df.groupby(['floodlightOpenId', 'testCode', 'testMetricCode']).count()[['testResultMetricValue']]\n",
    "count.columns = ['test_count']\n",
    "count_reset = count.reset_index()\n",
    "count_reset['test'] = count_reset['testCode'] + count_reset['testMetricCode']\n",
    "counttest = count_reset.drop(['testCode', 'testMetricCode'], axis = 1)\n",
    "counttest = counttest.set_index(['floodlightOpenId', 'test'])\n",
    "counttest = counttest.reset_index()\n",
    "counttest = counttest.pivot(index='floodlightOpenId', columns='test', values='test_count')\n",
    "counttest.columns = [col[0]+'_count' for col in counttest.columns]"
   ]
  },
  {
   "cell_type": "code",
   "execution_count": 152,
   "metadata": {},
   "outputs": [],
   "source": [
    "dfs = [meantest, vartest, counttest]\n",
    "maindf = pd.concat(dfs, axis=1)"
   ]
  },
  {
   "cell_type": "code",
   "execution_count": 153,
   "metadata": {},
   "outputs": [],
   "source": [
    "names = ['mood', 'bottomtop', 'circle', 'figure8', 'shapehand', 'meandrawdist', 'numshapes', 'spiral', 'square',\n",
    "        'topbottom', 'turnspeed', 'turns', 'ips', 'ipstime', 'bips', 'bipstime', 'mobility', 'pinchhand', 'pinches',\n",
    "        'sway', 'steps']"
   ]
  },
  {
   "cell_type": "code",
   "execution_count": 154,
   "metadata": {},
   "outputs": [],
   "source": [
    "def cols(names, metric):\n",
    "    allcols = []\n",
    "    for name in names: \n",
    "        allcols.append(name + '_' + metric)\n",
    "    return allcols"
   ]
  },
  {
   "cell_type": "code",
   "execution_count": 155,
   "metadata": {},
   "outputs": [],
   "source": [
    "meancols = cols(names, 'mean')\n",
    "varcols = cols(names, 'var')\n",
    "countcols = cols(names, 'count')"
   ]
  },
  {
   "cell_type": "code",
   "execution_count": 156,
   "metadata": {},
   "outputs": [],
   "source": [
    "allcols = meancols + varcols + countcols"
   ]
  },
  {
   "cell_type": "code",
   "execution_count": 157,
   "metadata": {},
   "outputs": [],
   "source": [
    "maindf.columns = allcols"
   ]
  },
  {
   "cell_type": "code",
   "execution_count": 158,
   "metadata": {},
   "outputs": [],
   "source": [
    "diagnosis = df.groupby(['floodlightOpenId', 'participantIsControl']).size().reset_index()[['floodlightOpenId', 'participantIsControl']]\n",
    "sex = df.groupby(['floodlightOpenId', 'participantSex']).size().reset_index()[['floodlightOpenId', 'participantSex']]\n",
    "country = df.groupby(['floodlightOpenId', 'participantCountryOfResidence']).size().reset_index(name='Time')[['floodlightOpenId', 'participantCountryOfResidence']]\n",
    "age = df.groupby(['floodlightOpenId']).mean().reset_index()[['floodlightOpenId', 'age']]\n",
    "weight = df.groupby(['floodlightOpenId']).mean().reset_index()[['floodlightOpenId', 'participantWeightLbs']]\n",
    "height = df.groupby(['floodlightOpenId']).mean().reset_index()[['floodlightOpenId', 'participantHeightCms']]\n"
   ]
  },
  {
   "cell_type": "code",
   "execution_count": 159,
   "metadata": {},
   "outputs": [],
   "source": [
    "maindf['sex'] = list(sex['participantSex'])\n",
    "maindf['country'] = list(country['participantCountryOfResidence'])\n",
    "maindf['age'] = list(age['age'])\n",
    "maindf['weight'] = list(weight['participantWeightLbs'])\n",
    "maindf['height'] = list(height['participantHeightCms'])\n",
    "maindf['diagnosis'] = list(diagnosis['participantIsControl'])"
   ]
  },
  {
   "cell_type": "code",
   "execution_count": 160,
   "metadata": {},
   "outputs": [],
   "source": [
    "def fillvar(df, metric):\n",
    "    col = np.where(((maindf['{}_var'.format(metric)].isna()) & (maindf['{}_count'.format(metric)] == 1)), \n",
    "             0, maindf['{}_var'.format(metric)])\n",
    "    return col"
   ]
  },
  {
   "cell_type": "code",
   "execution_count": 161,
   "metadata": {},
   "outputs": [],
   "source": [
    "for name in names: \n",
    "    maindf['{}_var'.format(name)] = fillvar(maindf, name)"
   ]
  },
  {
   "cell_type": "code",
   "execution_count": 162,
   "metadata": {},
   "outputs": [],
   "source": [
    "maindf['height'] = maindf['height'].apply(lambda x: x/100)"
   ]
  },
  {
   "cell_type": "code",
   "execution_count": 163,
   "metadata": {},
   "outputs": [],
   "source": [
    "maindf['weight'] = maindf['weight'].apply(lambda x: x*0.454)"
   ]
  },
  {
   "cell_type": "code",
   "execution_count": 164,
   "metadata": {},
   "outputs": [],
   "source": [
    "maindf['BMI'] = maindf['weight'] / (maindf['height'] **2)"
   ]
  },
  {
   "cell_type": "code",
   "execution_count": 165,
   "metadata": {},
   "outputs": [],
   "source": [
    "# sum(maindf.isnull().mean(axis=1) > 0.5)\n",
    "\n",
    "thresh = len(maindf) * .5\n",
    "maindf.dropna(thresh = thresh, axis = 1, inplace = True)"
   ]
  },
  {
   "cell_type": "code",
   "execution_count": 166,
   "metadata": {},
   "outputs": [],
   "source": [
    "threshc = len(maindf.columns) * .5\n",
    "maindf.dropna(thresh = threshc, axis = 0, inplace = True)"
   ]
  },
  {
   "cell_type": "code",
   "execution_count": 167,
   "metadata": {
    "scrolled": true
   },
   "outputs": [],
   "source": [
    "# print(sum(maindf.isnull().mean(axis=1) > 0.5))\n",
    "# print(sum(maindf.isnull().mean(axis=0) > 0.5))"
   ]
  },
  {
   "cell_type": "code",
   "execution_count": 168,
   "metadata": {
    "scrolled": true
   },
   "outputs": [],
   "source": [
    "def fillna(df, metric):\n",
    "    df = maindf['{}'.format(metric)].fillna(df.groupby('diagnosis')['{}'.format(metric)].transform('mean'))\n",
    "    return df\n",
    "\n",
    "for col in list(maindf.columns): \n",
    "    if maindf[col].isna().any():\n",
    "        maindf['{}'.format(col)] = fillna(maindf, col)\n",
    "\n"
   ]
  },
  {
   "cell_type": "code",
   "execution_count": 169,
   "metadata": {},
   "outputs": [],
   "source": [
    "maindf.drop(['shapehand_mean', 'pinchhand_mean', 'shapehand_count', 'pinchhand_count', \n",
    "             'weight', 'height', 'ipstime_count', 'bipstime_count', 'turnspeed_count'], axis = 1, inplace = True)"
   ]
  },
  {
   "cell_type": "code",
   "execution_count": 170,
   "metadata": {
    "scrolled": true
   },
   "outputs": [
    {
     "data": {
      "text/plain": [
       "US    605\n",
       "CA    115\n",
       "IT     89\n",
       "CH     41\n",
       "ES     26\n",
       "DK     12\n",
       "GB      2\n",
       "CZ      2\n",
       "AU      1\n",
       "Name: country, dtype: int64"
      ]
     },
     "execution_count": 170,
     "metadata": {},
     "output_type": "execute_result"
    }
   ],
   "source": [
    "maindf.country.value_counts()"
   ]
  },
  {
   "cell_type": "code",
   "execution_count": 171,
   "metadata": {
    "scrolled": true
   },
   "outputs": [
    {
     "data": {
      "text/plain": [
       "HC    455\n",
       "MS    438\n",
       "Name: diagnosis, dtype: int64"
      ]
     },
     "execution_count": 171,
     "metadata": {},
     "output_type": "execute_result"
    }
   ],
   "source": [
    "maindf['diagnosis'].value_counts()"
   ]
  },
  {
   "cell_type": "code",
   "execution_count": 172,
   "metadata": {},
   "outputs": [
    {
     "data": {
      "text/plain": [
       "female    531\n",
       "male      362\n",
       "Name: sex, dtype: int64"
      ]
     },
     "execution_count": 172,
     "metadata": {},
     "output_type": "execute_result"
    }
   ],
   "source": [
    "maindf.sex.value_counts()"
   ]
  },
  {
   "cell_type": "code",
   "execution_count": 173,
   "metadata": {
    "scrolled": true
   },
   "outputs": [],
   "source": [
    "sexdum = pd.get_dummies(maindf['sex'])\n",
    "countrydum = pd.get_dummies(maindf['country'])\n",
    "dummies = [sexdum, countrydum]"
   ]
  },
  {
   "cell_type": "code",
   "execution_count": 174,
   "metadata": {},
   "outputs": [],
   "source": [
    "dummiesdf = pd.concat(dummies, axis = 1)"
   ]
  },
  {
   "cell_type": "code",
   "execution_count": 175,
   "metadata": {
    "scrolled": true
   },
   "outputs": [],
   "source": [
    "maindf = maindf.merge(pd.concat(dummies, axis = 1), left_index=True, right_index= True)"
   ]
  },
  {
   "cell_type": "code",
   "execution_count": 181,
   "metadata": {},
   "outputs": [],
   "source": [
    "maindf.drop(['sex', 'country'], axis = 1, inplace = True)"
   ]
  },
  {
   "cell_type": "code",
   "execution_count": 176,
   "metadata": {},
   "outputs": [],
   "source": [
    "import pandas as pd\n",
    "import matplotlib.pyplot as plt\n",
    "import seaborn as sns"
   ]
  },
  {
   "cell_type": "code",
   "execution_count": 182,
   "metadata": {
    "scrolled": true
   },
   "outputs": [
    {
     "data": {
      "text/plain": [
       "<matplotlib.axes._subplots.AxesSubplot at 0x1a2252ef28>"
      ]
     },
     "execution_count": 182,
     "metadata": {},
     "output_type": "execute_result"
    },
    {
     "data": {
      "image/png": "[encoded data removed]",
      "text/plain": [
       "<Figure size 432x288 with 2 Axes>"
      ]
     },
     "metadata": {
      "needs_background": "light"
     },
     "output_type": "display_data"
    }
   ],
   "source": [
    "sns.heatmap(maindf.corr())"
   ]
  },
  {
   "cell_type": "code",
   "execution_count": 183,
   "metadata": {},
   "outputs": [
    {
     "data": {
      "text/plain": [
       "Index(['diagnosis', 'mood_mean', 'bottomtop_mean', 'circle_mean',\n",
       "       'figure8_mean', 'meandrawdist_mean', 'numshapes_mean', 'spiral_mean',\n",
       "       'square_mean', 'topbottom_mean', 'turnspeed_mean', 'turns_mean',\n",
       "       'ips_mean', 'ipstime_mean', 'bips_mean', 'bipstime_mean',\n",
       "       'mobility_mean', 'pinches_mean', 'sway_mean', 'mood_var',\n",
       "       'bottomtop_var', 'circle_var', 'figure8_var', 'shapehand_var',\n",
       "       'meandrawdist_var', 'numshapes_var', 'spiral_var', 'square_var',\n",
       "       'topbottom_var', 'turnspeed_var', 'turns_var', 'ips_var', 'ipstime_var',\n",
       "       'bips_var', 'bipstime_var', 'mobility_var', 'pinchhand_var',\n",
       "       'pinches_var', 'sway_var', 'mood_count', 'bottomtop_count',\n",
       "       'circle_count', 'figure8_count', 'meandrawdist_count',\n",
       "       'numshapes_count', 'spiral_count', 'square_count', 'topbottom_count',\n",
       "       'turns_count', 'ips_count', 'bips_count', 'mobility_count',\n",
       "       'pinches_count', 'sway_count', 'age', 'BMI', 'female', 'male', 'AU',\n",
       "       'CA', 'CH', 'CZ', 'DK', 'ES', 'GB', 'IT', 'US'],\n",
       "      dtype='object')"
      ]
     },
     "execution_count": 183,
     "metadata": {},
     "output_type": "execute_result"
    }
   ],
   "source": [
    "maindf.columns"
   ]
  },
  {
   "cell_type": "code",
   "execution_count": 184,
   "metadata": {},
   "outputs": [],
   "source": [
    "features = ['mood_mean', 'bottomtop_mean', 'circle_mean', 'figure8_mean',\n",
    "       'meandrawdist_mean', 'numshapes_mean', 'spiral_mean', 'square_mean',\n",
    "       'topbottom_mean', 'turnspeed_mean', 'turns_mean', 'ips_mean',\n",
    "       'ipstime_mean', 'bips_mean', 'bipstime_mean', 'mobility_mean',\n",
    "       'pinches_mean', 'sway_mean', 'mood_var', 'bottomtop_var', 'circle_var',\n",
    "       'figure8_var', 'shapehand_var', 'meandrawdist_var', 'numshapes_var',\n",
    "       'spiral_var', 'square_var', 'topbottom_var', 'turnspeed_var',\n",
    "       'turns_var', 'ips_var', 'ipstime_var', 'bips_var', 'bipstime_var',\n",
    "       'mobility_var', 'pinchhand_var', 'pinches_var', 'sway_var',\n",
    "       'mood_count', 'bottomtop_count', 'circle_count', 'figure8_count',\n",
    "       'meandrawdist_count', 'numshapes_count', 'spiral_count', 'square_count',\n",
    "       'topbottom_count', 'turns_count', 'ips_count', 'bips_count',\n",
    "       'mobility_count', 'pinches_count', 'sway_count', 'age', 'BMI']"
   ]
  },
  {
   "cell_type": "code",
   "execution_count": 179,
   "metadata": {},
   "outputs": [],
   "source": [
    "maindf = maindf[ ['diagnosis'] + [ col for col in maindf.columns if col != 'diagnosis' ] ]"
   ]
  },
  {
   "cell_type": "code",
   "execution_count": 289,
   "metadata": {},
   "outputs": [],
   "source": [
    "maindf.to_csv('maindf.csv')"
   ]
  },
  {
   "cell_type": "markdown",
   "metadata": {},
   "source": [
    "Splitting data"
   ]
  },
  {
   "cell_type": "code",
   "execution_count": 185,
   "metadata": {},
   "outputs": [],
   "source": [
    "vals = maindf.iloc[:, 1:]\n",
    "diag = maindf.iloc[:, :1]"
   ]
  },
  {
   "cell_type": "code",
   "execution_count": 186,
   "metadata": {},
   "outputs": [],
   "source": [
    "X_train, X_test, y_train, y_test = train_test_split(vals, diag, test_size = 0.2, random_state = 42)"
   ]
  },
  {
   "cell_type": "markdown",
   "metadata": {},
   "source": [
    "baseline model"
   ]
  },
  {
   "cell_type": "code",
   "execution_count": 280,
   "metadata": {},
   "outputs": [],
   "source": [
    "from sklearn.linear_model import LogisticRegression\n",
    "from sklearn.metrics import accuracy_score, confusion_matrix, classification_report\n",
    "from sklearn.tree import DecisionTreeClassifier\n",
    "from sklearn.ensemble import BaggingClassifier, RandomForestClassifier"
   ]
  },
  {
   "cell_type": "code",
   "execution_count": 317,
   "metadata": {
    "scrolled": false
   },
   "outputs": [
    {
     "name": "stdout",
     "output_type": "stream",
     "text": [
      "0.6946778711484594\n",
      "Training Accuracy: 69.47%\n",
      "Testing accuracy: 73.74%\n"
     ]
    }
   ],
   "source": [
    "logregbase = LogisticRegression(random_state=42).fit(X_train,y_train)\n",
    "print(logregbase.score(X_train, y_train, sample_weight=None))\n",
    "\n",
    "y_pred = logregbase.predict(X_test)\n",
    "training_preds = logregbase.predict(X_train)\n",
    "\n",
    "\n",
    "logregbase.coef_\n",
    "\n",
    "logregbase.intercept_\n",
    "\n",
    "from sklearn.metrics import confusion_matrix\n",
    "\n",
    "confusion_matrix(y_test, y_pred)\n",
    "\n",
    "training_accuracy = accuracy_score(y_train, training_preds)\n",
    "val_accuracy = accuracy_score(y_test, y_pred)\n",
    "\n",
    "print(\"Training Accuracy: {:.4}%\".format(training_accuracy * 100))\n",
    "print(\"Testing accuracy: {:.4}%\".format(val_accuracy * 100))"
   ]
  },
  {
   "cell_type": "markdown",
   "metadata": {},
   "source": [
    "Random forest on cleaned data:"
   ]
  },
  {
   "cell_type": "code",
   "execution_count": 305,
   "metadata": {},
   "outputs": [],
   "source": [
    "from sklearn.metrics import accuracy_score, confusion_matrix, classification_report\n",
    "from sklearn.tree import DecisionTreeClassifier\n",
    "from sklearn.ensemble import BaggingClassifier, RandomForestClassifier\n",
    "from sklearn.model_selection import GridSearchCV\n",
    "\n",
    "\n",
    "# forest = RandomForestClassifier(n_estimators=100, max_depth= 5)\n",
    "# forest.fit(data_train, target_train)\n",
    "# forest.score(data_train, target_train)\n",
    "# forest.score(data_test, target_test)\n",
    "\n",
    "# pred = tree_clf.predict(data_test)\n",
    "# print(confusion_matrix(target_test, pred))\n",
    "# print(classification_report(target_test, pred))\n",
    "\n",
    "# rfc=RandomForestClassifier(random_state=42)\n",
    "\n",
    "# param_grid = { \n",
    "#     'n_estimators': [100, 200, 300],\n",
    "#     'max_features': ['auto', 'sqrt', 'log2'],\n",
    "#     'max_depth' : [3, 4, 5, 6, 7, 8, 9, 10],\n",
    "#     'criterion' :['gini', 'entropy']\n",
    "# }\n",
    "\n",
    "# CV_rfc = GridSearchCV(estimator=rfc, param_grid=param_grid, cv= 5)\n",
    "# CV_rfc.fit(data_train, target_train)\n",
    "\n",
    "# CV_rfc.best_params_\n",
    "\n",
    "# rfc1=RandomForestClassifier(max_features='auto', n_estimators=300, max_depth=6, criterion='gini')\n",
    "# rfc1.fit(data_train, target_train)\n",
    "# pred=rfc1.predict(data_test)\n",
    "# print(\"Accuracy for Random Forest on CV data: \",accuracy_score(target_test,pred))"
   ]
  },
  {
   "cell_type": "code",
   "execution_count": 295,
   "metadata": {
    "scrolled": true
   },
   "outputs": [
    {
     "name": "stdout",
     "output_type": "stream",
     "text": [
      "Training score: \n",
      "0.9201680672268907\n",
      "Testing Score\n",
      "0.8491620111731844\n"
     ]
    }
   ],
   "source": [
    "forest = RandomForestClassifier(n_estimators=100, max_depth=5, random_state=42)\n",
    "forest.fit(X_train, y_train)\n",
    "print('Training score: ')\n",
    "print(forest.score(X_train, y_train))\n",
    "print('Testing Score: ')\n",
    "print(forest.score(X_test, y_test))"
   ]
  },
  {
   "cell_type": "code",
   "execution_count": 303,
   "metadata": {
    "scrolled": false
   },
   "outputs": [
    {
     "name": "stdout",
     "output_type": "stream",
     "text": [
      "[[77 13]\n",
      " [14 75]]\n",
      "              precision    recall  f1-score   support\n",
      "\n",
      "          HC       0.85      0.86      0.85        90\n",
      "          MS       0.85      0.84      0.85        89\n",
      "\n",
      "   micro avg       0.85      0.85      0.85       179\n",
      "   macro avg       0.85      0.85      0.85       179\n",
      "weighted avg       0.85      0.85      0.85       179\n",
      "\n"
     ]
    }
   ],
   "source": [
    "prediction = forest.predict(X_test)\n",
    "\n",
    "print(confusion_matrix(y_test, prediction))\n",
    "print(classification_report(y_test, prediction))"
   ]
  },
  {
   "cell_type": "code",
   "execution_count": 327,
   "metadata": {},
   "outputs": [
    {
     "data": {
      "text/plain": [
       "{'criterion': 'gini',\n",
       " 'max_depth': 15,\n",
       " 'max_features': 'log2',\n",
       " 'n_estimators': 400}"
      ]
     },
     "execution_count": 327,
     "metadata": {},
     "output_type": "execute_result"
    }
   ],
   "source": [
    "param_grid = { \n",
    "    'n_estimators': [100, 200, 300, 400],\n",
    "    'max_features': ['auto', 'sqrt', 'log2'],\n",
    "    'max_depth' : [10, 11, 12, 13, 14, 15, 16, 17, 18, 19, 20],\n",
    "    'criterion' :['gini', 'entropy']\n",
    "}\n",
    "\n",
    "grid_forest = GridSearchCV(estimator=forest, param_grid=param_grid, cv= 5)\n",
    "grid_forest.fit(X_train, y_train)\n",
    "\n",
    "grid_forest.best_params_"
   ]
  },
  {
   "cell_type": "code",
   "execution_count": 329,
   "metadata": {
    "scrolled": true
   },
   "outputs": [
    {
     "name": "stdout",
     "output_type": "stream",
     "text": [
      "Accuracy for Random Forest on CV data:  0.8547486033519553\n",
      "[[78 12]\n",
      " [14 75]]\n",
      "              precision    recall  f1-score   support\n",
      "\n",
      "          HC       0.85      0.87      0.86        90\n",
      "          MS       0.86      0.84      0.85        89\n",
      "\n",
      "   micro avg       0.85      0.85      0.85       179\n",
      "   macro avg       0.85      0.85      0.85       179\n",
      "weighted avg       0.85      0.85      0.85       179\n",
      "\n"
     ]
    }
   ],
   "source": [
    "rfc1=RandomForestClassifier(max_features='log2', n_estimators=400, max_depth=15, criterion='gini', random_state=42)\n",
    "rfc1.fit(X_train, y_train)\n",
    "pred=rfc1.predict(X_test)\n",
    "print(\"Accuracy for Random Forest on CV data: \",accuracy_score(y_test, pred))\n",
    "\n",
    "print(confusion_matrix(y_test, pred))\n",
    "print(classification_report(y_test, pred))"
   ]
  },
  {
   "cell_type": "markdown",
   "metadata": {},
   "source": [
    "logistic regression with clean data and grid search"
   ]
  },
  {
   "cell_type": "code",
   "execution_count": null,
   "metadata": {},
   "outputs": [],
   "source": [
    "logreg = LogisticRegression().fit(training,y_train)\n",
    "logreg.score(training, y_train, sample_weight=None)\n",
    "grid={\"C\":np.logspace(-3,3,7), \"penalty\":[\"l1\",\"l2\"]}\n",
    "logreg=LogisticRegression()\n",
    "logreg_cv=GridSearchCV(logreg,grid,cv=5)\n",
    "logreg_cv.fit(training,y_train)\n",
    "logreg_cv.score(training, y_train)\n",
    "logreg.coef_\n",
    "logreg.intercept_\n",
    "y_pred = logreg_cv.predict(testing)\n",
    "confusion_matrix(y_test, y_pred)"
   ]
  },
  {
   "cell_type": "code",
   "execution_count": 341,
   "metadata": {},
   "outputs": [
    {
     "data": {
      "text/plain": [
       "0.6946778711484594"
      ]
     },
     "execution_count": 341,
     "metadata": {},
     "output_type": "execute_result"
    }
   ],
   "source": [
    "logreg = LogisticRegression(random_state=42).fit(X_train,y_train)\n",
    "logreg.score(X_train, y_train, sample_weight=None)"
   ]
  },
  {
   "cell_type": "code",
   "execution_count": 346,
   "metadata": {},
   "outputs": [
    {
     "data": {
      "text/plain": [
       "array([[71, 19],\n",
       "       [19, 70]])"
      ]
     },
     "execution_count": 346,
     "metadata": {},
     "output_type": "execute_result"
    }
   ],
   "source": [
    "grid={\"C\":np.logspace(-5,5,10), \"penalty\":[\"l1\",\"l2\"]}\n",
    "logreggrid=LogisticRegression(random_state=42)\n",
    "logreg_cv=GridSearchCV(logreggrid,grid,cv=5)\n",
    "logreg_cv.fit(X_train,y_train)\n",
    "logreg_cv.score(X_train, y_train)\n",
    "y_pred = logreg_cv.predict(X_test)\n",
    "confusion_matrix(y_test, y_pred)"
   ]
  },
  {
   "cell_type": "code",
   "execution_count": null,
   "metadata": {},
   "outputs": [],
   "source": []
  },
  {
   "cell_type": "markdown",
   "metadata": {},
   "source": [
    "xgboost with clean data"
   ]
  },
  {
   "cell_type": "code",
   "execution_count": 330,
   "metadata": {},
   "outputs": [],
   "source": [
    "import xgboost as xgb"
   ]
  },
  {
   "cell_type": "code",
   "execution_count": 334,
   "metadata": {
    "scrolled": true
   },
   "outputs": [
    {
     "name": "stdout",
     "output_type": "stream",
     "text": [
      "Training Accuracy: 96.64%\n",
      "Validation accuracy: 84.36%\n",
      "[[77 13]\n",
      " [15 74]]\n",
      "              precision    recall  f1-score   support\n",
      "\n",
      "          HC       0.84      0.86      0.85        90\n",
      "          MS       0.85      0.83      0.84        89\n",
      "\n",
      "   micro avg       0.84      0.84      0.84       179\n",
      "   macro avg       0.84      0.84      0.84       179\n",
      "weighted avg       0.84      0.84      0.84       179\n",
      "\n"
     ]
    }
   ],
   "source": [
    "xg = xgb.XGBClassifier(random_state=42)\n",
    "xg.fit(X_train, y_train)\n",
    "training_preds = xg.predict(X_train)\n",
    "val_preds = xg.predict(X_test)\n",
    "training_accuracy = accuracy_score(y_train, training_preds)\n",
    "val_accuracy = accuracy_score(y_test, val_preds)\n",
    "\n",
    "print(\"Training Accuracy: {:.4}%\".format(training_accuracy * 100))\n",
    "print(\"Validation accuracy: {:.4}%\".format(val_accuracy * 100))\n",
    "\n",
    "print(confusion_matrix(y_test, val_preds))\n",
    "print(classification_report(y_test, val_preds))"
   ]
  },
  {
   "cell_type": "code",
   "execution_count": 339,
   "metadata": {},
   "outputs": [
    {
     "name": "stdout",
     "output_type": "stream",
     "text": [
      "Grid Search found the following optimal parameters: \n",
      "learning_rate: 0.1\n",
      "max_depth: 4\n",
      "min_child_weight: 5\n",
      "n_estimators: 100\n",
      "subsample: 0.7\n",
      "Training Accuracy: 97.06%\n",
      "Testing Accuracy: 82.12%\n",
      "[[75 15]\n",
      " [17 72]]\n",
      "              precision    recall  f1-score   support\n",
      "\n",
      "          HC       0.82      0.83      0.82        90\n",
      "          MS       0.83      0.81      0.82        89\n",
      "\n",
      "   micro avg       0.82      0.82      0.82       179\n",
      "   macro avg       0.82      0.82      0.82       179\n",
      "weighted avg       0.82      0.82      0.82       179\n",
      "\n"
     ]
    }
   ],
   "source": [
    "param_grid = {\n",
    "    \"learning_rate\": [0.1],\n",
    "    'max_depth': [1, 2, 3, 4, 5],\n",
    "    'min_child_weight': [2, 5, 10, 20],\n",
    "    'subsample': [0.6, 0.7, 0.8],\n",
    "    'n_estimators': [10, 20, 50, 100, 250],\n",
    "}\n",
    "\n",
    "grid_xg = GridSearchCV(xg, param_grid, scoring='accuracy', cv=None, n_jobs=1)\n",
    "grid_xg.fit(X_train, y_train)\n",
    "\n",
    "best_parameters = grid_xg.best_params_\n",
    "\n",
    "print(\"Grid Search found the following optimal parameters: \")\n",
    "for param_name in sorted(best_parameters.keys()):\n",
    "    print(\"%s: %r\" % (param_name, best_parameters[param_name]))\n",
    "\n",
    "training_preds = grid_xg.predict(X_train)\n",
    "val_preds = grid_xg.predict(X_test)\n",
    "training_accuracy = accuracy_score(y_train, training_preds)\n",
    "val_accuracy = accuracy_score(y_test, val_preds)\n",
    "\n",
    "\n",
    "print(\"Training Accuracy: {:.4}%\".format(training_accuracy * 100))\n",
    "print(\"Testing Accuracy: {:.4}%\".format(val_accuracy * 100))\n",
    "\n",
    "print(confusion_matrix(y_test, val_preds))\n",
    "print(classification_report(y_test, val_preds))"
   ]
  },
  {
   "cell_type": "markdown",
   "metadata": {},
   "source": [
    "Below: PCA"
   ]
  },
  {
   "cell_type": "code",
   "execution_count": 188,
   "metadata": {
    "scrolled": true
   },
   "outputs": [],
   "source": [
    "pcax_train = X_train.iloc[:, :-11]\n",
    "pcax_test = X_test.iloc[:, :-11]\n",
    "pcay_train = y_train\n",
    "pcay_test = y_test"
   ]
  },
  {
   "cell_type": "code",
   "execution_count": 189,
   "metadata": {
    "scrolled": true
   },
   "outputs": [],
   "source": [
    "# preprocess the data \n",
    "from sklearn.preprocessing import StandardScaler\n",
    "\n",
    "scaler = StandardScaler()"
   ]
  },
  {
   "cell_type": "code",
   "execution_count": 190,
   "metadata": {
    "scrolled": true
   },
   "outputs": [],
   "source": [
    "pcax_trainsc = scaler.fit_transform(pcax_train)\n",
    "pcax_testsc = scaler.transform(pcax_test)"
   ]
  },
  {
   "cell_type": "code",
   "execution_count": 191,
   "metadata": {},
   "outputs": [],
   "source": [
    "cols = []\n",
    "for i in range(1, len(features)+1):\n",
    "    cols.append('principal component {}'.format(i))"
   ]
  },
  {
   "cell_type": "code",
   "execution_count": 192,
   "metadata": {},
   "outputs": [],
   "source": [
    "from sklearn.decomposition import PCA\n",
    "pca = PCA()\n",
    "principalComponentstrain = pca.fit_transform(pcax_trainsc)\n",
    "principalComponentstest = pca.transform(pcax_testsc)\n",
    "principalDf = pd.DataFrame(data = principalComponentstrain, columns = cols)"
   ]
  },
  {
   "cell_type": "code",
   "execution_count": 193,
   "metadata": {
    "scrolled": true
   },
   "outputs": [
    {
     "data": {
      "text/html": [
       "<div>\n",
       "<style scoped>\n",
       "    .dataframe tbody tr th:only-of-type {\n",
       "        vertical-align: middle;\n",
       "    }\n",
       "\n",
       "    .dataframe tbody tr th {\n",
       "        vertical-align: top;\n",
       "    }\n",
       "\n",
       "    .dataframe thead th {\n",
       "        text-align: right;\n",
       "    }\n",
       "</style>\n",
       "<table border=\"1\" class=\"dataframe\">\n",
       "  <thead>\n",
       "    <tr style=\"text-align: right;\">\n",
       "      <th></th>\n",
       "      <th>principal component 1</th>\n",
       "      <th>principal component 2</th>\n",
       "      <th>principal component 3</th>\n",
       "      <th>principal component 4</th>\n",
       "      <th>principal component 5</th>\n",
       "      <th>principal component 6</th>\n",
       "      <th>principal component 7</th>\n",
       "      <th>principal component 8</th>\n",
       "      <th>principal component 9</th>\n",
       "      <th>principal component 10</th>\n",
       "      <th>...</th>\n",
       "      <th>principal component 46</th>\n",
       "      <th>principal component 47</th>\n",
       "      <th>principal component 48</th>\n",
       "      <th>principal component 49</th>\n",
       "      <th>principal component 50</th>\n",
       "      <th>principal component 51</th>\n",
       "      <th>principal component 52</th>\n",
       "      <th>principal component 53</th>\n",
       "      <th>principal component 54</th>\n",
       "      <th>principal component 55</th>\n",
       "    </tr>\n",
       "  </thead>\n",
       "  <tbody>\n",
       "    <tr>\n",
       "      <th>0</th>\n",
       "      <td>-0.306434</td>\n",
       "      <td>-0.387170</td>\n",
       "      <td>-0.020251</td>\n",
       "      <td>-0.395931</td>\n",
       "      <td>0.287246</td>\n",
       "      <td>-0.128255</td>\n",
       "      <td>-0.171453</td>\n",
       "      <td>-0.196668</td>\n",
       "      <td>-0.249584</td>\n",
       "      <td>0.144441</td>\n",
       "      <td>...</td>\n",
       "      <td>-0.013923</td>\n",
       "      <td>-0.007710</td>\n",
       "      <td>0.064041</td>\n",
       "      <td>0.002203</td>\n",
       "      <td>-0.002217</td>\n",
       "      <td>0.001758</td>\n",
       "      <td>-0.000998</td>\n",
       "      <td>-0.001145</td>\n",
       "      <td>-0.000887</td>\n",
       "      <td>-2.275424e-04</td>\n",
       "    </tr>\n",
       "    <tr>\n",
       "      <th>1</th>\n",
       "      <td>0.183541</td>\n",
       "      <td>-0.566343</td>\n",
       "      <td>-0.948464</td>\n",
       "      <td>-0.681137</td>\n",
       "      <td>-1.905727</td>\n",
       "      <td>2.412042</td>\n",
       "      <td>0.141963</td>\n",
       "      <td>0.299981</td>\n",
       "      <td>-0.129741</td>\n",
       "      <td>0.030257</td>\n",
       "      <td>...</td>\n",
       "      <td>0.005519</td>\n",
       "      <td>-0.000521</td>\n",
       "      <td>-0.009914</td>\n",
       "      <td>0.000951</td>\n",
       "      <td>0.000692</td>\n",
       "      <td>-0.000890</td>\n",
       "      <td>-0.000652</td>\n",
       "      <td>-0.000602</td>\n",
       "      <td>0.000009</td>\n",
       "      <td>3.128293e-05</td>\n",
       "    </tr>\n",
       "    <tr>\n",
       "      <th>2</th>\n",
       "      <td>-0.092406</td>\n",
       "      <td>-0.234847</td>\n",
       "      <td>-0.137715</td>\n",
       "      <td>0.637949</td>\n",
       "      <td>1.046547</td>\n",
       "      <td>0.138671</td>\n",
       "      <td>-1.043528</td>\n",
       "      <td>-0.401328</td>\n",
       "      <td>-1.717110</td>\n",
       "      <td>-1.246056</td>\n",
       "      <td>...</td>\n",
       "      <td>-0.014767</td>\n",
       "      <td>-0.006239</td>\n",
       "      <td>-0.009432</td>\n",
       "      <td>-0.003862</td>\n",
       "      <td>-0.000279</td>\n",
       "      <td>0.000093</td>\n",
       "      <td>-0.000580</td>\n",
       "      <td>-0.000439</td>\n",
       "      <td>0.001442</td>\n",
       "      <td>5.414982e-04</td>\n",
       "    </tr>\n",
       "    <tr>\n",
       "      <th>3</th>\n",
       "      <td>-1.545455</td>\n",
       "      <td>-0.431926</td>\n",
       "      <td>-0.786309</td>\n",
       "      <td>1.609957</td>\n",
       "      <td>0.107613</td>\n",
       "      <td>-0.444784</td>\n",
       "      <td>0.408823</td>\n",
       "      <td>0.134234</td>\n",
       "      <td>-0.254022</td>\n",
       "      <td>0.255177</td>\n",
       "      <td>...</td>\n",
       "      <td>0.002196</td>\n",
       "      <td>-0.004956</td>\n",
       "      <td>-0.001071</td>\n",
       "      <td>0.000191</td>\n",
       "      <td>0.000744</td>\n",
       "      <td>-0.000608</td>\n",
       "      <td>-0.000221</td>\n",
       "      <td>0.000128</td>\n",
       "      <td>0.000467</td>\n",
       "      <td>1.896114e-04</td>\n",
       "    </tr>\n",
       "    <tr>\n",
       "      <th>4</th>\n",
       "      <td>-1.531673</td>\n",
       "      <td>-0.483757</td>\n",
       "      <td>-1.104390</td>\n",
       "      <td>1.694268</td>\n",
       "      <td>0.172769</td>\n",
       "      <td>-1.108131</td>\n",
       "      <td>-0.294841</td>\n",
       "      <td>0.233590</td>\n",
       "      <td>-0.863099</td>\n",
       "      <td>-0.404119</td>\n",
       "      <td>...</td>\n",
       "      <td>-0.006619</td>\n",
       "      <td>0.000322</td>\n",
       "      <td>-0.003330</td>\n",
       "      <td>0.000157</td>\n",
       "      <td>0.002529</td>\n",
       "      <td>-0.003719</td>\n",
       "      <td>-0.000086</td>\n",
       "      <td>-0.000148</td>\n",
       "      <td>-0.000049</td>\n",
       "      <td>1.206749e-04</td>\n",
       "    </tr>\n",
       "    <tr>\n",
       "      <th>5</th>\n",
       "      <td>-1.605052</td>\n",
       "      <td>-0.439849</td>\n",
       "      <td>-0.531210</td>\n",
       "      <td>0.619372</td>\n",
       "      <td>-0.237219</td>\n",
       "      <td>-0.856485</td>\n",
       "      <td>0.807869</td>\n",
       "      <td>0.083431</td>\n",
       "      <td>1.614743</td>\n",
       "      <td>0.721768</td>\n",
       "      <td>...</td>\n",
       "      <td>-0.026354</td>\n",
       "      <td>-0.008452</td>\n",
       "      <td>0.000497</td>\n",
       "      <td>0.001743</td>\n",
       "      <td>0.002254</td>\n",
       "      <td>0.000803</td>\n",
       "      <td>-0.002979</td>\n",
       "      <td>0.000052</td>\n",
       "      <td>-0.000650</td>\n",
       "      <td>-6.669187e-04</td>\n",
       "    </tr>\n",
       "    <tr>\n",
       "      <th>6</th>\n",
       "      <td>-0.774453</td>\n",
       "      <td>-0.506182</td>\n",
       "      <td>0.254349</td>\n",
       "      <td>-1.677963</td>\n",
       "      <td>0.416266</td>\n",
       "      <td>-1.244799</td>\n",
       "      <td>-2.026294</td>\n",
       "      <td>0.726551</td>\n",
       "      <td>-0.952604</td>\n",
       "      <td>0.926994</td>\n",
       "      <td>...</td>\n",
       "      <td>-0.011955</td>\n",
       "      <td>0.009027</td>\n",
       "      <td>-0.016558</td>\n",
       "      <td>0.000681</td>\n",
       "      <td>-0.000464</td>\n",
       "      <td>0.001579</td>\n",
       "      <td>0.001584</td>\n",
       "      <td>0.001961</td>\n",
       "      <td>0.001007</td>\n",
       "      <td>-2.832715e-04</td>\n",
       "    </tr>\n",
       "    <tr>\n",
       "      <th>7</th>\n",
       "      <td>-0.535069</td>\n",
       "      <td>-0.613579</td>\n",
       "      <td>-0.187693</td>\n",
       "      <td>-2.319467</td>\n",
       "      <td>-0.869184</td>\n",
       "      <td>-0.527842</td>\n",
       "      <td>-1.165119</td>\n",
       "      <td>0.384143</td>\n",
       "      <td>0.539925</td>\n",
       "      <td>0.233394</td>\n",
       "      <td>...</td>\n",
       "      <td>-0.002265</td>\n",
       "      <td>-0.002033</td>\n",
       "      <td>0.000362</td>\n",
       "      <td>-0.001746</td>\n",
       "      <td>-0.001961</td>\n",
       "      <td>0.002854</td>\n",
       "      <td>-0.003044</td>\n",
       "      <td>-0.002622</td>\n",
       "      <td>-0.000144</td>\n",
       "      <td>-4.136421e-04</td>\n",
       "    </tr>\n",
       "    <tr>\n",
       "      <th>8</th>\n",
       "      <td>-0.307427</td>\n",
       "      <td>-0.360130</td>\n",
       "      <td>0.245412</td>\n",
       "      <td>-0.717619</td>\n",
       "      <td>0.560064</td>\n",
       "      <td>-0.021160</td>\n",
       "      <td>-0.819134</td>\n",
       "      <td>-0.149091</td>\n",
       "      <td>-1.018731</td>\n",
       "      <td>-0.624563</td>\n",
       "      <td>...</td>\n",
       "      <td>0.005897</td>\n",
       "      <td>-0.007272</td>\n",
       "      <td>-0.015312</td>\n",
       "      <td>-0.001881</td>\n",
       "      <td>-0.001281</td>\n",
       "      <td>-0.000608</td>\n",
       "      <td>0.000158</td>\n",
       "      <td>0.001579</td>\n",
       "      <td>0.000158</td>\n",
       "      <td>3.402713e-04</td>\n",
       "    </tr>\n",
       "    <tr>\n",
       "      <th>9</th>\n",
       "      <td>-0.956908</td>\n",
       "      <td>-0.370371</td>\n",
       "      <td>1.054702</td>\n",
       "      <td>-1.024490</td>\n",
       "      <td>0.496312</td>\n",
       "      <td>-0.256491</td>\n",
       "      <td>-2.036009</td>\n",
       "      <td>0.798524</td>\n",
       "      <td>-1.708888</td>\n",
       "      <td>0.633010</td>\n",
       "      <td>...</td>\n",
       "      <td>-0.015322</td>\n",
       "      <td>0.075421</td>\n",
       "      <td>-0.001670</td>\n",
       "      <td>-0.003039</td>\n",
       "      <td>-0.000234</td>\n",
       "      <td>0.000383</td>\n",
       "      <td>0.000496</td>\n",
       "      <td>0.000528</td>\n",
       "      <td>-0.000095</td>\n",
       "      <td>-6.532276e-04</td>\n",
       "    </tr>\n",
       "    <tr>\n",
       "      <th>10</th>\n",
       "      <td>5.614783</td>\n",
       "      <td>-0.105928</td>\n",
       "      <td>-0.013669</td>\n",
       "      <td>0.247903</td>\n",
       "      <td>1.304744</td>\n",
       "      <td>-0.110995</td>\n",
       "      <td>-0.237626</td>\n",
       "      <td>0.167263</td>\n",
       "      <td>-1.243258</td>\n",
       "      <td>0.125205</td>\n",
       "      <td>...</td>\n",
       "      <td>0.010238</td>\n",
       "      <td>-0.013780</td>\n",
       "      <td>-0.047148</td>\n",
       "      <td>-0.000810</td>\n",
       "      <td>-0.002032</td>\n",
       "      <td>-0.000089</td>\n",
       "      <td>0.001875</td>\n",
       "      <td>0.004564</td>\n",
       "      <td>0.000103</td>\n",
       "      <td>1.306198e-04</td>\n",
       "    </tr>\n",
       "    <tr>\n",
       "      <th>11</th>\n",
       "      <td>-1.561407</td>\n",
       "      <td>5.805316</td>\n",
       "      <td>0.511312</td>\n",
       "      <td>5.386199</td>\n",
       "      <td>13.799767</td>\n",
       "      <td>11.716645</td>\n",
       "      <td>-6.393386</td>\n",
       "      <td>1.561938</td>\n",
       "      <td>9.801397</td>\n",
       "      <td>-0.731004</td>\n",
       "      <td>...</td>\n",
       "      <td>0.000092</td>\n",
       "      <td>0.000256</td>\n",
       "      <td>0.000059</td>\n",
       "      <td>-0.000241</td>\n",
       "      <td>-0.000071</td>\n",
       "      <td>-0.000304</td>\n",
       "      <td>-0.000070</td>\n",
       "      <td>-0.000093</td>\n",
       "      <td>0.000055</td>\n",
       "      <td>-5.040509e-06</td>\n",
       "    </tr>\n",
       "    <tr>\n",
       "      <th>12</th>\n",
       "      <td>-1.577551</td>\n",
       "      <td>-0.765379</td>\n",
       "      <td>-1.501140</td>\n",
       "      <td>0.307438</td>\n",
       "      <td>-1.387223</td>\n",
       "      <td>-1.253956</td>\n",
       "      <td>0.110694</td>\n",
       "      <td>0.388897</td>\n",
       "      <td>2.020328</td>\n",
       "      <td>0.397997</td>\n",
       "      <td>...</td>\n",
       "      <td>-0.001414</td>\n",
       "      <td>0.009443</td>\n",
       "      <td>-0.010208</td>\n",
       "      <td>-0.000410</td>\n",
       "      <td>-0.000863</td>\n",
       "      <td>-0.001706</td>\n",
       "      <td>-0.000126</td>\n",
       "      <td>0.000235</td>\n",
       "      <td>-0.000621</td>\n",
       "      <td>1.210062e-05</td>\n",
       "    </tr>\n",
       "    <tr>\n",
       "      <th>13</th>\n",
       "      <td>-0.831892</td>\n",
       "      <td>-0.382027</td>\n",
       "      <td>0.432770</td>\n",
       "      <td>-0.606871</td>\n",
       "      <td>1.069578</td>\n",
       "      <td>-0.289375</td>\n",
       "      <td>0.515492</td>\n",
       "      <td>-1.193903</td>\n",
       "      <td>-0.259745</td>\n",
       "      <td>0.324629</td>\n",
       "      <td>...</td>\n",
       "      <td>-0.004831</td>\n",
       "      <td>-0.006794</td>\n",
       "      <td>-0.002199</td>\n",
       "      <td>-0.000054</td>\n",
       "      <td>0.000727</td>\n",
       "      <td>0.000984</td>\n",
       "      <td>-0.000734</td>\n",
       "      <td>-0.000111</td>\n",
       "      <td>0.000890</td>\n",
       "      <td>2.810530e-04</td>\n",
       "    </tr>\n",
       "    <tr>\n",
       "      <th>14</th>\n",
       "      <td>2.647232</td>\n",
       "      <td>-0.375530</td>\n",
       "      <td>-0.529165</td>\n",
       "      <td>-0.005094</td>\n",
       "      <td>0.048855</td>\n",
       "      <td>0.560480</td>\n",
       "      <td>-0.455320</td>\n",
       "      <td>0.486329</td>\n",
       "      <td>-1.230223</td>\n",
       "      <td>0.287275</td>\n",
       "      <td>...</td>\n",
       "      <td>0.001423</td>\n",
       "      <td>-0.012669</td>\n",
       "      <td>-0.009286</td>\n",
       "      <td>-0.000005</td>\n",
       "      <td>0.002933</td>\n",
       "      <td>0.001863</td>\n",
       "      <td>0.002731</td>\n",
       "      <td>0.001686</td>\n",
       "      <td>0.000542</td>\n",
       "      <td>-1.947375e-04</td>\n",
       "    </tr>\n",
       "    <tr>\n",
       "      <th>15</th>\n",
       "      <td>-1.479245</td>\n",
       "      <td>-0.360236</td>\n",
       "      <td>-0.729867</td>\n",
       "      <td>1.679323</td>\n",
       "      <td>0.201368</td>\n",
       "      <td>0.031976</td>\n",
       "      <td>0.212990</td>\n",
       "      <td>-0.057113</td>\n",
       "      <td>-0.296504</td>\n",
       "      <td>-0.674030</td>\n",
       "      <td>...</td>\n",
       "      <td>-0.012868</td>\n",
       "      <td>-0.005239</td>\n",
       "      <td>0.004665</td>\n",
       "      <td>-0.000612</td>\n",
       "      <td>0.001474</td>\n",
       "      <td>0.001615</td>\n",
       "      <td>-0.000229</td>\n",
       "      <td>0.000193</td>\n",
       "      <td>0.000693</td>\n",
       "      <td>3.207331e-04</td>\n",
       "    </tr>\n",
       "    <tr>\n",
       "      <th>16</th>\n",
       "      <td>0.010250</td>\n",
       "      <td>-0.525691</td>\n",
       "      <td>0.341557</td>\n",
       "      <td>-3.176551</td>\n",
       "      <td>-0.500009</td>\n",
       "      <td>-0.921218</td>\n",
       "      <td>-0.452391</td>\n",
       "      <td>0.286330</td>\n",
       "      <td>1.271731</td>\n",
       "      <td>0.460613</td>\n",
       "      <td>...</td>\n",
       "      <td>-0.010797</td>\n",
       "      <td>0.017738</td>\n",
       "      <td>-0.026332</td>\n",
       "      <td>-0.001527</td>\n",
       "      <td>-0.005168</td>\n",
       "      <td>-0.001584</td>\n",
       "      <td>0.003108</td>\n",
       "      <td>0.003793</td>\n",
       "      <td>0.002573</td>\n",
       "      <td>-1.300450e-04</td>\n",
       "    </tr>\n",
       "    <tr>\n",
       "      <th>17</th>\n",
       "      <td>-0.912680</td>\n",
       "      <td>-0.295932</td>\n",
       "      <td>1.162695</td>\n",
       "      <td>-1.689011</td>\n",
       "      <td>1.318148</td>\n",
       "      <td>0.183882</td>\n",
       "      <td>-0.868250</td>\n",
       "      <td>-0.696117</td>\n",
       "      <td>-1.904164</td>\n",
       "      <td>0.582459</td>\n",
       "      <td>...</td>\n",
       "      <td>-0.014427</td>\n",
       "      <td>0.004065</td>\n",
       "      <td>-0.006354</td>\n",
       "      <td>-0.002991</td>\n",
       "      <td>0.002215</td>\n",
       "      <td>0.000011</td>\n",
       "      <td>-0.000120</td>\n",
       "      <td>0.000912</td>\n",
       "      <td>0.000716</td>\n",
       "      <td>-5.519488e-05</td>\n",
       "    </tr>\n",
       "    <tr>\n",
       "      <th>18</th>\n",
       "      <td>-0.104338</td>\n",
       "      <td>-0.457865</td>\n",
       "      <td>0.182091</td>\n",
       "      <td>-1.412387</td>\n",
       "      <td>-0.040939</td>\n",
       "      <td>-0.650842</td>\n",
       "      <td>0.863558</td>\n",
       "      <td>0.634852</td>\n",
       "      <td>1.125384</td>\n",
       "      <td>0.604033</td>\n",
       "      <td>...</td>\n",
       "      <td>0.010773</td>\n",
       "      <td>0.034196</td>\n",
       "      <td>-0.014005</td>\n",
       "      <td>0.006040</td>\n",
       "      <td>-0.000113</td>\n",
       "      <td>-0.002360</td>\n",
       "      <td>-0.000752</td>\n",
       "      <td>-0.000252</td>\n",
       "      <td>-0.000631</td>\n",
       "      <td>-4.108750e-04</td>\n",
       "    </tr>\n",
       "    <tr>\n",
       "      <th>19</th>\n",
       "      <td>1.535431</td>\n",
       "      <td>-0.396601</td>\n",
       "      <td>-0.161745</td>\n",
       "      <td>-0.475501</td>\n",
       "      <td>0.242194</td>\n",
       "      <td>0.824677</td>\n",
       "      <td>0.420968</td>\n",
       "      <td>-0.517480</td>\n",
       "      <td>-0.473970</td>\n",
       "      <td>0.421473</td>\n",
       "      <td>...</td>\n",
       "      <td>-0.001330</td>\n",
       "      <td>-0.001105</td>\n",
       "      <td>-0.001932</td>\n",
       "      <td>-0.000355</td>\n",
       "      <td>0.000637</td>\n",
       "      <td>0.001765</td>\n",
       "      <td>0.000567</td>\n",
       "      <td>0.000333</td>\n",
       "      <td>0.000497</td>\n",
       "      <td>-4.792431e-05</td>\n",
       "    </tr>\n",
       "    <tr>\n",
       "      <th>20</th>\n",
       "      <td>-1.545286</td>\n",
       "      <td>-0.567728</td>\n",
       "      <td>-0.104710</td>\n",
       "      <td>-0.022122</td>\n",
       "      <td>1.376896</td>\n",
       "      <td>0.104529</td>\n",
       "      <td>4.318670</td>\n",
       "      <td>-1.309175</td>\n",
       "      <td>-0.272469</td>\n",
       "      <td>5.422700</td>\n",
       "      <td>...</td>\n",
       "      <td>-0.027247</td>\n",
       "      <td>0.004663</td>\n",
       "      <td>-0.012217</td>\n",
       "      <td>-0.002451</td>\n",
       "      <td>-0.001706</td>\n",
       "      <td>0.002895</td>\n",
       "      <td>0.003201</td>\n",
       "      <td>0.000453</td>\n",
       "      <td>0.001231</td>\n",
       "      <td>1.164653e-03</td>\n",
       "    </tr>\n",
       "    <tr>\n",
       "      <th>21</th>\n",
       "      <td>-1.612129</td>\n",
       "      <td>-0.620138</td>\n",
       "      <td>-1.349192</td>\n",
       "      <td>1.231358</td>\n",
       "      <td>-1.132099</td>\n",
       "      <td>-1.383020</td>\n",
       "      <td>-0.251267</td>\n",
       "      <td>1.662417</td>\n",
       "      <td>0.749677</td>\n",
       "      <td>1.737428</td>\n",
       "      <td>...</td>\n",
       "      <td>-0.007190</td>\n",
       "      <td>-0.012996</td>\n",
       "      <td>-0.008204</td>\n",
       "      <td>0.002689</td>\n",
       "      <td>0.002048</td>\n",
       "      <td>0.000546</td>\n",
       "      <td>-0.001635</td>\n",
       "      <td>-0.000219</td>\n",
       "      <td>0.000209</td>\n",
       "      <td>-7.905965e-04</td>\n",
       "    </tr>\n",
       "    <tr>\n",
       "      <th>22</th>\n",
       "      <td>-0.543441</td>\n",
       "      <td>-0.614723</td>\n",
       "      <td>-0.172733</td>\n",
       "      <td>-4.021214</td>\n",
       "      <td>-1.901721</td>\n",
       "      <td>3.311997</td>\n",
       "      <td>0.210939</td>\n",
       "      <td>-1.922903</td>\n",
       "      <td>-0.282584</td>\n",
       "      <td>-1.690843</td>\n",
       "      <td>...</td>\n",
       "      <td>-0.021664</td>\n",
       "      <td>0.006562</td>\n",
       "      <td>-0.010900</td>\n",
       "      <td>-0.008000</td>\n",
       "      <td>0.002964</td>\n",
       "      <td>-0.002437</td>\n",
       "      <td>0.001965</td>\n",
       "      <td>0.000430</td>\n",
       "      <td>-0.001074</td>\n",
       "      <td>3.665511e-04</td>\n",
       "    </tr>\n",
       "    <tr>\n",
       "      <th>23</th>\n",
       "      <td>0.884833</td>\n",
       "      <td>-0.623307</td>\n",
       "      <td>-0.924576</td>\n",
       "      <td>-1.378211</td>\n",
       "      <td>-1.156072</td>\n",
       "      <td>-0.244805</td>\n",
       "      <td>-0.050682</td>\n",
       "      <td>-0.428757</td>\n",
       "      <td>1.838589</td>\n",
       "      <td>-0.016040</td>\n",
       "      <td>...</td>\n",
       "      <td>0.008115</td>\n",
       "      <td>-0.007428</td>\n",
       "      <td>-0.005214</td>\n",
       "      <td>0.000566</td>\n",
       "      <td>0.000687</td>\n",
       "      <td>-0.000537</td>\n",
       "      <td>-0.000238</td>\n",
       "      <td>-0.000566</td>\n",
       "      <td>-0.000612</td>\n",
       "      <td>-1.802764e-04</td>\n",
       "    </tr>\n",
       "    <tr>\n",
       "      <th>24</th>\n",
       "      <td>-1.133368</td>\n",
       "      <td>-0.038275</td>\n",
       "      <td>0.977616</td>\n",
       "      <td>1.040441</td>\n",
       "      <td>1.394187</td>\n",
       "      <td>0.222240</td>\n",
       "      <td>-0.724404</td>\n",
       "      <td>-0.184804</td>\n",
       "      <td>-1.817455</td>\n",
       "      <td>-0.680817</td>\n",
       "      <td>...</td>\n",
       "      <td>0.013069</td>\n",
       "      <td>0.157749</td>\n",
       "      <td>0.006676</td>\n",
       "      <td>-0.002938</td>\n",
       "      <td>-0.001336</td>\n",
       "      <td>0.001517</td>\n",
       "      <td>0.000772</td>\n",
       "      <td>0.000057</td>\n",
       "      <td>-0.000341</td>\n",
       "      <td>-8.901783e-04</td>\n",
       "    </tr>\n",
       "    <tr>\n",
       "      <th>25</th>\n",
       "      <td>-1.003265</td>\n",
       "      <td>-0.485809</td>\n",
       "      <td>-0.071715</td>\n",
       "      <td>-1.881141</td>\n",
       "      <td>-0.308823</td>\n",
       "      <td>-0.222877</td>\n",
       "      <td>-0.947596</td>\n",
       "      <td>-0.351272</td>\n",
       "      <td>0.179522</td>\n",
       "      <td>-0.352451</td>\n",
       "      <td>...</td>\n",
       "      <td>-0.004991</td>\n",
       "      <td>0.000267</td>\n",
       "      <td>-0.002258</td>\n",
       "      <td>-0.000928</td>\n",
       "      <td>0.001655</td>\n",
       "      <td>0.001000</td>\n",
       "      <td>-0.000789</td>\n",
       "      <td>-0.000804</td>\n",
       "      <td>-0.000178</td>\n",
       "      <td>9.898901e-05</td>\n",
       "    </tr>\n",
       "    <tr>\n",
       "      <th>26</th>\n",
       "      <td>2.724894</td>\n",
       "      <td>-0.317592</td>\n",
       "      <td>-0.202130</td>\n",
       "      <td>-0.129899</td>\n",
       "      <td>0.306595</td>\n",
       "      <td>-0.452432</td>\n",
       "      <td>-0.151633</td>\n",
       "      <td>-0.272536</td>\n",
       "      <td>0.060081</td>\n",
       "      <td>-0.183191</td>\n",
       "      <td>...</td>\n",
       "      <td>0.007254</td>\n",
       "      <td>0.056488</td>\n",
       "      <td>-0.032643</td>\n",
       "      <td>-0.002613</td>\n",
       "      <td>-0.004432</td>\n",
       "      <td>-0.000598</td>\n",
       "      <td>0.001274</td>\n",
       "      <td>0.002336</td>\n",
       "      <td>-0.000609</td>\n",
       "      <td>-3.011425e-04</td>\n",
       "    </tr>\n",
       "    <tr>\n",
       "      <th>27</th>\n",
       "      <td>4.063900</td>\n",
       "      <td>-0.026757</td>\n",
       "      <td>0.367879</td>\n",
       "      <td>0.784338</td>\n",
       "      <td>1.278841</td>\n",
       "      <td>0.362827</td>\n",
       "      <td>-0.347934</td>\n",
       "      <td>0.120626</td>\n",
       "      <td>-1.717638</td>\n",
       "      <td>0.625302</td>\n",
       "      <td>...</td>\n",
       "      <td>0.018968</td>\n",
       "      <td>0.020708</td>\n",
       "      <td>-0.175979</td>\n",
       "      <td>-0.017900</td>\n",
       "      <td>-0.027121</td>\n",
       "      <td>-0.013414</td>\n",
       "      <td>-0.003587</td>\n",
       "      <td>0.011630</td>\n",
       "      <td>-0.000968</td>\n",
       "      <td>5.307723e-05</td>\n",
       "    </tr>\n",
       "    <tr>\n",
       "      <th>28</th>\n",
       "      <td>-0.785095</td>\n",
       "      <td>-0.505474</td>\n",
       "      <td>-0.243074</td>\n",
       "      <td>-1.608823</td>\n",
       "      <td>-0.337254</td>\n",
       "      <td>-0.447721</td>\n",
       "      <td>-1.308844</td>\n",
       "      <td>0.056960</td>\n",
       "      <td>0.006396</td>\n",
       "      <td>-0.047585</td>\n",
       "      <td>...</td>\n",
       "      <td>0.007046</td>\n",
       "      <td>-0.009769</td>\n",
       "      <td>-0.003056</td>\n",
       "      <td>-0.000364</td>\n",
       "      <td>0.002287</td>\n",
       "      <td>-0.000630</td>\n",
       "      <td>-0.000686</td>\n",
       "      <td>-0.000867</td>\n",
       "      <td>-0.000420</td>\n",
       "      <td>5.948293e-05</td>\n",
       "    </tr>\n",
       "    <tr>\n",
       "      <th>29</th>\n",
       "      <td>-1.535384</td>\n",
       "      <td>-0.525177</td>\n",
       "      <td>-1.051086</td>\n",
       "      <td>0.833971</td>\n",
       "      <td>-0.970243</td>\n",
       "      <td>-0.275667</td>\n",
       "      <td>0.706656</td>\n",
       "      <td>0.252001</td>\n",
       "      <td>1.204383</td>\n",
       "      <td>0.273133</td>\n",
       "      <td>...</td>\n",
       "      <td>-0.021513</td>\n",
       "      <td>-0.019872</td>\n",
       "      <td>0.001981</td>\n",
       "      <td>0.002048</td>\n",
       "      <td>0.000089</td>\n",
       "      <td>0.000934</td>\n",
       "      <td>-0.002649</td>\n",
       "      <td>-0.001297</td>\n",
       "      <td>-0.000059</td>\n",
       "      <td>-5.267077e-04</td>\n",
       "    </tr>\n",
       "    <tr>\n",
       "      <th>...</th>\n",
       "      <td>...</td>\n",
       "      <td>...</td>\n",
       "      <td>...</td>\n",
       "      <td>...</td>\n",
       "      <td>...</td>\n",
       "      <td>...</td>\n",
       "      <td>...</td>\n",
       "      <td>...</td>\n",
       "      <td>...</td>\n",
       "      <td>...</td>\n",
       "      <td>...</td>\n",
       "      <td>...</td>\n",
       "      <td>...</td>\n",
       "      <td>...</td>\n",
       "      <td>...</td>\n",
       "      <td>...</td>\n",
       "      <td>...</td>\n",
       "      <td>...</td>\n",
       "      <td>...</td>\n",
       "      <td>...</td>\n",
       "      <td>...</td>\n",
       "    </tr>\n",
       "    <tr>\n",
       "      <th>684</th>\n",
       "      <td>3.313500</td>\n",
       "      <td>7.305004</td>\n",
       "      <td>1.401848</td>\n",
       "      <td>-3.516764</td>\n",
       "      <td>0.841143</td>\n",
       "      <td>0.994702</td>\n",
       "      <td>7.560139</td>\n",
       "      <td>13.186816</td>\n",
       "      <td>2.170046</td>\n",
       "      <td>-8.599955</td>\n",
       "      <td>...</td>\n",
       "      <td>0.019823</td>\n",
       "      <td>0.007450</td>\n",
       "      <td>0.027842</td>\n",
       "      <td>-0.013186</td>\n",
       "      <td>-0.006195</td>\n",
       "      <td>0.002394</td>\n",
       "      <td>0.002369</td>\n",
       "      <td>0.000590</td>\n",
       "      <td>-0.000534</td>\n",
       "      <td>4.246330e-04</td>\n",
       "    </tr>\n",
       "    <tr>\n",
       "      <th>685</th>\n",
       "      <td>-1.708888</td>\n",
       "      <td>-0.036408</td>\n",
       "      <td>0.065999</td>\n",
       "      <td>2.258105</td>\n",
       "      <td>0.543020</td>\n",
       "      <td>-0.353270</td>\n",
       "      <td>0.835670</td>\n",
       "      <td>0.637644</td>\n",
       "      <td>-0.497198</td>\n",
       "      <td>1.231720</td>\n",
       "      <td>...</td>\n",
       "      <td>-0.041425</td>\n",
       "      <td>-0.034560</td>\n",
       "      <td>-0.011102</td>\n",
       "      <td>0.004338</td>\n",
       "      <td>0.005569</td>\n",
       "      <td>-0.000044</td>\n",
       "      <td>-0.006519</td>\n",
       "      <td>0.001024</td>\n",
       "      <td>0.000414</td>\n",
       "      <td>-5.173116e-03</td>\n",
       "    </tr>\n",
       "    <tr>\n",
       "      <th>686</th>\n",
       "      <td>-1.200959</td>\n",
       "      <td>-0.301386</td>\n",
       "      <td>-0.634437</td>\n",
       "      <td>2.169928</td>\n",
       "      <td>0.933694</td>\n",
       "      <td>-0.178143</td>\n",
       "      <td>-0.046924</td>\n",
       "      <td>-0.348457</td>\n",
       "      <td>-1.482567</td>\n",
       "      <td>-0.905806</td>\n",
       "      <td>...</td>\n",
       "      <td>-0.004568</td>\n",
       "      <td>0.003993</td>\n",
       "      <td>0.006583</td>\n",
       "      <td>-0.000083</td>\n",
       "      <td>0.002168</td>\n",
       "      <td>-0.000590</td>\n",
       "      <td>0.001328</td>\n",
       "      <td>0.000715</td>\n",
       "      <td>0.000702</td>\n",
       "      <td>-1.279393e-04</td>\n",
       "    </tr>\n",
       "    <tr>\n",
       "      <th>687</th>\n",
       "      <td>3.387805</td>\n",
       "      <td>-0.381403</td>\n",
       "      <td>-0.878719</td>\n",
       "      <td>-0.410722</td>\n",
       "      <td>-0.012595</td>\n",
       "      <td>-0.388827</td>\n",
       "      <td>-0.432593</td>\n",
       "      <td>-0.244277</td>\n",
       "      <td>0.459258</td>\n",
       "      <td>-0.217271</td>\n",
       "      <td>...</td>\n",
       "      <td>-0.004989</td>\n",
       "      <td>-0.012031</td>\n",
       "      <td>-0.004400</td>\n",
       "      <td>-0.001179</td>\n",
       "      <td>0.000453</td>\n",
       "      <td>-0.000456</td>\n",
       "      <td>-0.001497</td>\n",
       "      <td>-0.001788</td>\n",
       "      <td>0.000358</td>\n",
       "      <td>5.576317e-05</td>\n",
       "    </tr>\n",
       "    <tr>\n",
       "      <th>688</th>\n",
       "      <td>-1.527698</td>\n",
       "      <td>-0.478936</td>\n",
       "      <td>-1.109424</td>\n",
       "      <td>1.426057</td>\n",
       "      <td>0.113522</td>\n",
       "      <td>-0.651575</td>\n",
       "      <td>-0.060793</td>\n",
       "      <td>0.368687</td>\n",
       "      <td>-0.380307</td>\n",
       "      <td>0.513376</td>\n",
       "      <td>...</td>\n",
       "      <td>0.007366</td>\n",
       "      <td>-0.014690</td>\n",
       "      <td>-0.003417</td>\n",
       "      <td>-0.001343</td>\n",
       "      <td>0.001225</td>\n",
       "      <td>-0.000610</td>\n",
       "      <td>0.001804</td>\n",
       "      <td>0.000026</td>\n",
       "      <td>0.000609</td>\n",
       "      <td>1.892163e-04</td>\n",
       "    </tr>\n",
       "    <tr>\n",
       "      <th>689</th>\n",
       "      <td>-1.577977</td>\n",
       "      <td>-0.647694</td>\n",
       "      <td>-1.257822</td>\n",
       "      <td>0.898539</td>\n",
       "      <td>-1.188030</td>\n",
       "      <td>-0.313433</td>\n",
       "      <td>0.446053</td>\n",
       "      <td>0.615648</td>\n",
       "      <td>1.107968</td>\n",
       "      <td>0.387473</td>\n",
       "      <td>...</td>\n",
       "      <td>-0.013773</td>\n",
       "      <td>0.000300</td>\n",
       "      <td>0.003260</td>\n",
       "      <td>0.001693</td>\n",
       "      <td>0.000639</td>\n",
       "      <td>0.002003</td>\n",
       "      <td>-0.001437</td>\n",
       "      <td>-0.000560</td>\n",
       "      <td>0.000161</td>\n",
       "      <td>-6.189879e-05</td>\n",
       "    </tr>\n",
       "    <tr>\n",
       "      <th>690</th>\n",
       "      <td>-1.580534</td>\n",
       "      <td>-0.524686</td>\n",
       "      <td>-0.899211</td>\n",
       "      <td>1.329213</td>\n",
       "      <td>-0.718629</td>\n",
       "      <td>-0.313322</td>\n",
       "      <td>0.665740</td>\n",
       "      <td>0.127446</td>\n",
       "      <td>0.647055</td>\n",
       "      <td>0.031580</td>\n",
       "      <td>...</td>\n",
       "      <td>0.005057</td>\n",
       "      <td>0.003113</td>\n",
       "      <td>-0.003601</td>\n",
       "      <td>0.001283</td>\n",
       "      <td>-0.000380</td>\n",
       "      <td>-0.000504</td>\n",
       "      <td>-0.002113</td>\n",
       "      <td>-0.000630</td>\n",
       "      <td>0.000029</td>\n",
       "      <td>-1.226995e-04</td>\n",
       "    </tr>\n",
       "    <tr>\n",
       "      <th>691</th>\n",
       "      <td>-0.345130</td>\n",
       "      <td>-0.252139</td>\n",
       "      <td>0.155536</td>\n",
       "      <td>0.137626</td>\n",
       "      <td>1.360441</td>\n",
       "      <td>-0.057834</td>\n",
       "      <td>0.006139</td>\n",
       "      <td>0.054079</td>\n",
       "      <td>-1.467928</td>\n",
       "      <td>0.926985</td>\n",
       "      <td>...</td>\n",
       "      <td>-0.010626</td>\n",
       "      <td>-0.010338</td>\n",
       "      <td>-0.007898</td>\n",
       "      <td>-0.001361</td>\n",
       "      <td>0.000300</td>\n",
       "      <td>0.001270</td>\n",
       "      <td>0.000994</td>\n",
       "      <td>0.001001</td>\n",
       "      <td>0.001004</td>\n",
       "      <td>5.787164e-04</td>\n",
       "    </tr>\n",
       "    <tr>\n",
       "      <th>692</th>\n",
       "      <td>-0.683517</td>\n",
       "      <td>-0.425302</td>\n",
       "      <td>0.338787</td>\n",
       "      <td>-1.848849</td>\n",
       "      <td>0.165543</td>\n",
       "      <td>0.004395</td>\n",
       "      <td>-1.340187</td>\n",
       "      <td>0.472422</td>\n",
       "      <td>-1.144080</td>\n",
       "      <td>-0.508902</td>\n",
       "      <td>...</td>\n",
       "      <td>-0.005854</td>\n",
       "      <td>-0.014962</td>\n",
       "      <td>-0.015053</td>\n",
       "      <td>-0.000542</td>\n",
       "      <td>-0.001824</td>\n",
       "      <td>-0.001278</td>\n",
       "      <td>-0.000946</td>\n",
       "      <td>0.000324</td>\n",
       "      <td>0.000702</td>\n",
       "      <td>7.116780e-07</td>\n",
       "    </tr>\n",
       "    <tr>\n",
       "      <th>693</th>\n",
       "      <td>-0.151955</td>\n",
       "      <td>-0.241613</td>\n",
       "      <td>0.552850</td>\n",
       "      <td>-0.372332</td>\n",
       "      <td>1.597843</td>\n",
       "      <td>-0.102206</td>\n",
       "      <td>-0.427171</td>\n",
       "      <td>0.968354</td>\n",
       "      <td>-1.909519</td>\n",
       "      <td>-0.507313</td>\n",
       "      <td>...</td>\n",
       "      <td>-0.008425</td>\n",
       "      <td>-0.004876</td>\n",
       "      <td>-0.014936</td>\n",
       "      <td>0.005627</td>\n",
       "      <td>0.001516</td>\n",
       "      <td>-0.000177</td>\n",
       "      <td>-0.000387</td>\n",
       "      <td>0.000583</td>\n",
       "      <td>0.001315</td>\n",
       "      <td>3.369600e-04</td>\n",
       "    </tr>\n",
       "    <tr>\n",
       "      <th>694</th>\n",
       "      <td>-0.603498</td>\n",
       "      <td>-0.430868</td>\n",
       "      <td>-0.047715</td>\n",
       "      <td>-1.899302</td>\n",
       "      <td>0.261505</td>\n",
       "      <td>-0.558964</td>\n",
       "      <td>-0.647278</td>\n",
       "      <td>1.525192</td>\n",
       "      <td>-0.820578</td>\n",
       "      <td>-0.757270</td>\n",
       "      <td>...</td>\n",
       "      <td>0.008747</td>\n",
       "      <td>-0.008264</td>\n",
       "      <td>-0.045277</td>\n",
       "      <td>0.007637</td>\n",
       "      <td>0.000036</td>\n",
       "      <td>-0.004528</td>\n",
       "      <td>-0.001302</td>\n",
       "      <td>0.000753</td>\n",
       "      <td>-0.000375</td>\n",
       "      <td>-3.271916e-05</td>\n",
       "    </tr>\n",
       "    <tr>\n",
       "      <th>695</th>\n",
       "      <td>-1.629945</td>\n",
       "      <td>-0.562179</td>\n",
       "      <td>-1.026994</td>\n",
       "      <td>0.886882</td>\n",
       "      <td>-0.599018</td>\n",
       "      <td>-0.987039</td>\n",
       "      <td>0.333792</td>\n",
       "      <td>0.058738</td>\n",
       "      <td>1.192285</td>\n",
       "      <td>0.149205</td>\n",
       "      <td>...</td>\n",
       "      <td>0.007586</td>\n",
       "      <td>-0.001605</td>\n",
       "      <td>-0.005654</td>\n",
       "      <td>0.000165</td>\n",
       "      <td>-0.000264</td>\n",
       "      <td>-0.001522</td>\n",
       "      <td>-0.000297</td>\n",
       "      <td>0.000399</td>\n",
       "      <td>-0.000247</td>\n",
       "      <td>-3.004893e-04</td>\n",
       "    </tr>\n",
       "    <tr>\n",
       "      <th>696</th>\n",
       "      <td>-1.289239</td>\n",
       "      <td>-0.476346</td>\n",
       "      <td>-0.468572</td>\n",
       "      <td>0.746406</td>\n",
       "      <td>0.162456</td>\n",
       "      <td>-0.431088</td>\n",
       "      <td>0.986492</td>\n",
       "      <td>-0.558118</td>\n",
       "      <td>0.933460</td>\n",
       "      <td>0.307776</td>\n",
       "      <td>...</td>\n",
       "      <td>-0.012203</td>\n",
       "      <td>0.004034</td>\n",
       "      <td>-0.008845</td>\n",
       "      <td>-0.000756</td>\n",
       "      <td>0.000894</td>\n",
       "      <td>-0.000648</td>\n",
       "      <td>-0.000380</td>\n",
       "      <td>0.001363</td>\n",
       "      <td>-0.000096</td>\n",
       "      <td>-2.665679e-04</td>\n",
       "    </tr>\n",
       "    <tr>\n",
       "      <th>697</th>\n",
       "      <td>-0.509910</td>\n",
       "      <td>0.201315</td>\n",
       "      <td>2.631400</td>\n",
       "      <td>-1.705676</td>\n",
       "      <td>0.594431</td>\n",
       "      <td>0.032582</td>\n",
       "      <td>-1.526322</td>\n",
       "      <td>0.348381</td>\n",
       "      <td>-1.113624</td>\n",
       "      <td>0.594892</td>\n",
       "      <td>...</td>\n",
       "      <td>-0.051290</td>\n",
       "      <td>0.009832</td>\n",
       "      <td>-0.006934</td>\n",
       "      <td>-0.000748</td>\n",
       "      <td>0.002421</td>\n",
       "      <td>0.004268</td>\n",
       "      <td>-0.001479</td>\n",
       "      <td>0.002175</td>\n",
       "      <td>0.002551</td>\n",
       "      <td>1.039264e-03</td>\n",
       "    </tr>\n",
       "    <tr>\n",
       "      <th>698</th>\n",
       "      <td>-0.943820</td>\n",
       "      <td>-0.658718</td>\n",
       "      <td>-0.505886</td>\n",
       "      <td>-2.196732</td>\n",
       "      <td>-0.925966</td>\n",
       "      <td>-0.805122</td>\n",
       "      <td>-1.428801</td>\n",
       "      <td>0.202748</td>\n",
       "      <td>0.950165</td>\n",
       "      <td>0.252263</td>\n",
       "      <td>...</td>\n",
       "      <td>0.008440</td>\n",
       "      <td>-0.003908</td>\n",
       "      <td>-0.005023</td>\n",
       "      <td>0.000045</td>\n",
       "      <td>0.000152</td>\n",
       "      <td>0.001305</td>\n",
       "      <td>0.000762</td>\n",
       "      <td>-0.000569</td>\n",
       "      <td>0.000005</td>\n",
       "      <td>-2.910379e-04</td>\n",
       "    </tr>\n",
       "    <tr>\n",
       "      <th>699</th>\n",
       "      <td>-1.067987</td>\n",
       "      <td>-0.062823</td>\n",
       "      <td>1.371426</td>\n",
       "      <td>-1.785546</td>\n",
       "      <td>1.430269</td>\n",
       "      <td>1.133445</td>\n",
       "      <td>3.625560</td>\n",
       "      <td>-1.973714</td>\n",
       "      <td>1.791646</td>\n",
       "      <td>-4.421301</td>\n",
       "      <td>...</td>\n",
       "      <td>-0.009936</td>\n",
       "      <td>-0.012925</td>\n",
       "      <td>0.005665</td>\n",
       "      <td>0.004808</td>\n",
       "      <td>-0.017370</td>\n",
       "      <td>-0.007192</td>\n",
       "      <td>-0.007581</td>\n",
       "      <td>0.000221</td>\n",
       "      <td>-0.000051</td>\n",
       "      <td>-2.388529e-04</td>\n",
       "    </tr>\n",
       "    <tr>\n",
       "      <th>700</th>\n",
       "      <td>2.625929</td>\n",
       "      <td>-0.431097</td>\n",
       "      <td>-0.525744</td>\n",
       "      <td>-1.141432</td>\n",
       "      <td>-0.204980</td>\n",
       "      <td>-0.707492</td>\n",
       "      <td>-0.197337</td>\n",
       "      <td>-0.472162</td>\n",
       "      <td>1.011766</td>\n",
       "      <td>-0.077909</td>\n",
       "      <td>...</td>\n",
       "      <td>0.001354</td>\n",
       "      <td>-0.001333</td>\n",
       "      <td>-0.006295</td>\n",
       "      <td>-0.000295</td>\n",
       "      <td>0.001327</td>\n",
       "      <td>-0.000575</td>\n",
       "      <td>0.000427</td>\n",
       "      <td>-0.000320</td>\n",
       "      <td>0.000513</td>\n",
       "      <td>-1.680724e-04</td>\n",
       "    </tr>\n",
       "    <tr>\n",
       "      <th>701</th>\n",
       "      <td>2.720958</td>\n",
       "      <td>-0.540473</td>\n",
       "      <td>-1.146783</td>\n",
       "      <td>-0.838221</td>\n",
       "      <td>-0.633545</td>\n",
       "      <td>-0.639264</td>\n",
       "      <td>-0.739452</td>\n",
       "      <td>0.395454</td>\n",
       "      <td>0.936643</td>\n",
       "      <td>0.227102</td>\n",
       "      <td>...</td>\n",
       "      <td>0.005995</td>\n",
       "      <td>-0.008402</td>\n",
       "      <td>-0.017703</td>\n",
       "      <td>-0.000671</td>\n",
       "      <td>0.001196</td>\n",
       "      <td>-0.002194</td>\n",
       "      <td>0.000857</td>\n",
       "      <td>0.000405</td>\n",
       "      <td>0.000015</td>\n",
       "      <td>-1.422061e-04</td>\n",
       "    </tr>\n",
       "    <tr>\n",
       "      <th>702</th>\n",
       "      <td>-1.631378</td>\n",
       "      <td>-0.559683</td>\n",
       "      <td>-0.718615</td>\n",
       "      <td>0.616291</td>\n",
       "      <td>-0.230634</td>\n",
       "      <td>-0.871447</td>\n",
       "      <td>1.020220</td>\n",
       "      <td>-0.118904</td>\n",
       "      <td>1.298440</td>\n",
       "      <td>1.044560</td>\n",
       "      <td>...</td>\n",
       "      <td>-0.008097</td>\n",
       "      <td>-0.000867</td>\n",
       "      <td>-0.001632</td>\n",
       "      <td>0.000986</td>\n",
       "      <td>0.000595</td>\n",
       "      <td>0.002571</td>\n",
       "      <td>0.000234</td>\n",
       "      <td>0.000944</td>\n",
       "      <td>-0.000061</td>\n",
       "      <td>-5.235565e-06</td>\n",
       "    </tr>\n",
       "    <tr>\n",
       "      <th>703</th>\n",
       "      <td>-0.638283</td>\n",
       "      <td>-0.173250</td>\n",
       "      <td>1.994567</td>\n",
       "      <td>-3.270357</td>\n",
       "      <td>1.360699</td>\n",
       "      <td>-0.133091</td>\n",
       "      <td>-0.824305</td>\n",
       "      <td>-0.603583</td>\n",
       "      <td>-1.566877</td>\n",
       "      <td>1.481680</td>\n",
       "      <td>...</td>\n",
       "      <td>-0.003171</td>\n",
       "      <td>0.002164</td>\n",
       "      <td>0.070303</td>\n",
       "      <td>-0.001605</td>\n",
       "      <td>0.002871</td>\n",
       "      <td>-0.000909</td>\n",
       "      <td>0.001323</td>\n",
       "      <td>0.000544</td>\n",
       "      <td>-0.002668</td>\n",
       "      <td>-8.722514e-04</td>\n",
       "    </tr>\n",
       "    <tr>\n",
       "      <th>704</th>\n",
       "      <td>-0.629472</td>\n",
       "      <td>-0.616348</td>\n",
       "      <td>-0.737428</td>\n",
       "      <td>-1.451463</td>\n",
       "      <td>-0.898697</td>\n",
       "      <td>-0.458025</td>\n",
       "      <td>-0.565541</td>\n",
       "      <td>0.141440</td>\n",
       "      <td>1.175005</td>\n",
       "      <td>-0.276035</td>\n",
       "      <td>...</td>\n",
       "      <td>0.004754</td>\n",
       "      <td>-0.012462</td>\n",
       "      <td>-0.012262</td>\n",
       "      <td>-0.000342</td>\n",
       "      <td>-0.001609</td>\n",
       "      <td>-0.001064</td>\n",
       "      <td>-0.000892</td>\n",
       "      <td>-0.000405</td>\n",
       "      <td>-0.000171</td>\n",
       "      <td>-2.398418e-04</td>\n",
       "    </tr>\n",
       "    <tr>\n",
       "      <th>705</th>\n",
       "      <td>-1.690602</td>\n",
       "      <td>-0.359136</td>\n",
       "      <td>-0.394156</td>\n",
       "      <td>1.886231</td>\n",
       "      <td>1.196197</td>\n",
       "      <td>-0.523988</td>\n",
       "      <td>1.308244</td>\n",
       "      <td>-0.378512</td>\n",
       "      <td>-1.267181</td>\n",
       "      <td>1.233686</td>\n",
       "      <td>...</td>\n",
       "      <td>0.002671</td>\n",
       "      <td>-0.004936</td>\n",
       "      <td>-0.007806</td>\n",
       "      <td>-0.001032</td>\n",
       "      <td>0.000394</td>\n",
       "      <td>-0.000977</td>\n",
       "      <td>0.001075</td>\n",
       "      <td>0.000871</td>\n",
       "      <td>0.001081</td>\n",
       "      <td>7.123185e-04</td>\n",
       "    </tr>\n",
       "    <tr>\n",
       "      <th>706</th>\n",
       "      <td>-0.210280</td>\n",
       "      <td>-0.503929</td>\n",
       "      <td>-0.570647</td>\n",
       "      <td>-1.151518</td>\n",
       "      <td>-0.484343</td>\n",
       "      <td>-0.346651</td>\n",
       "      <td>-0.681461</td>\n",
       "      <td>0.134260</td>\n",
       "      <td>0.477293</td>\n",
       "      <td>-0.460547</td>\n",
       "      <td>...</td>\n",
       "      <td>-0.020102</td>\n",
       "      <td>-0.001189</td>\n",
       "      <td>-0.019473</td>\n",
       "      <td>-0.001770</td>\n",
       "      <td>-0.000669</td>\n",
       "      <td>-0.000799</td>\n",
       "      <td>-0.000154</td>\n",
       "      <td>0.000767</td>\n",
       "      <td>0.000270</td>\n",
       "      <td>2.676234e-04</td>\n",
       "    </tr>\n",
       "    <tr>\n",
       "      <th>707</th>\n",
       "      <td>-0.420449</td>\n",
       "      <td>-0.268944</td>\n",
       "      <td>0.445266</td>\n",
       "      <td>-0.594568</td>\n",
       "      <td>1.131157</td>\n",
       "      <td>-0.284916</td>\n",
       "      <td>0.392284</td>\n",
       "      <td>0.566615</td>\n",
       "      <td>-0.864675</td>\n",
       "      <td>1.313349</td>\n",
       "      <td>...</td>\n",
       "      <td>-0.002692</td>\n",
       "      <td>-0.001840</td>\n",
       "      <td>-0.033657</td>\n",
       "      <td>0.000879</td>\n",
       "      <td>-0.003388</td>\n",
       "      <td>-0.001880</td>\n",
       "      <td>-0.000403</td>\n",
       "      <td>0.002444</td>\n",
       "      <td>0.001061</td>\n",
       "      <td>-8.166565e-05</td>\n",
       "    </tr>\n",
       "    <tr>\n",
       "      <th>708</th>\n",
       "      <td>-0.660287</td>\n",
       "      <td>-0.385087</td>\n",
       "      <td>0.136391</td>\n",
       "      <td>-1.020936</td>\n",
       "      <td>0.209603</td>\n",
       "      <td>-0.401425</td>\n",
       "      <td>-0.136889</td>\n",
       "      <td>-0.275275</td>\n",
       "      <td>0.422760</td>\n",
       "      <td>0.852159</td>\n",
       "      <td>...</td>\n",
       "      <td>-0.006125</td>\n",
       "      <td>-0.002032</td>\n",
       "      <td>-0.000087</td>\n",
       "      <td>0.000658</td>\n",
       "      <td>0.002573</td>\n",
       "      <td>-0.000157</td>\n",
       "      <td>-0.001515</td>\n",
       "      <td>-0.000416</td>\n",
       "      <td>-0.000017</td>\n",
       "      <td>-9.786609e-04</td>\n",
       "    </tr>\n",
       "    <tr>\n",
       "      <th>709</th>\n",
       "      <td>-1.516872</td>\n",
       "      <td>-0.493586</td>\n",
       "      <td>-1.062626</td>\n",
       "      <td>1.276573</td>\n",
       "      <td>-0.437869</td>\n",
       "      <td>-0.533360</td>\n",
       "      <td>0.034965</td>\n",
       "      <td>0.245019</td>\n",
       "      <td>0.247982</td>\n",
       "      <td>-0.252742</td>\n",
       "      <td>...</td>\n",
       "      <td>0.005136</td>\n",
       "      <td>-0.006708</td>\n",
       "      <td>-0.000109</td>\n",
       "      <td>0.000683</td>\n",
       "      <td>0.003656</td>\n",
       "      <td>0.001398</td>\n",
       "      <td>0.000012</td>\n",
       "      <td>0.000250</td>\n",
       "      <td>-0.000262</td>\n",
       "      <td>8.719727e-05</td>\n",
       "    </tr>\n",
       "    <tr>\n",
       "      <th>710</th>\n",
       "      <td>-1.574552</td>\n",
       "      <td>-0.647867</td>\n",
       "      <td>-1.318350</td>\n",
       "      <td>0.546569</td>\n",
       "      <td>-0.882077</td>\n",
       "      <td>-1.010287</td>\n",
       "      <td>0.106448</td>\n",
       "      <td>0.019714</td>\n",
       "      <td>1.501489</td>\n",
       "      <td>-0.045611</td>\n",
       "      <td>...</td>\n",
       "      <td>0.012357</td>\n",
       "      <td>-0.001013</td>\n",
       "      <td>-0.002742</td>\n",
       "      <td>-0.000633</td>\n",
       "      <td>-0.000965</td>\n",
       "      <td>-0.002319</td>\n",
       "      <td>0.000757</td>\n",
       "      <td>-0.000200</td>\n",
       "      <td>-0.000488</td>\n",
       "      <td>2.810807e-04</td>\n",
       "    </tr>\n",
       "    <tr>\n",
       "      <th>711</th>\n",
       "      <td>-1.574018</td>\n",
       "      <td>-0.330194</td>\n",
       "      <td>-0.441947</td>\n",
       "      <td>1.760713</td>\n",
       "      <td>0.668974</td>\n",
       "      <td>-0.615906</td>\n",
       "      <td>0.696950</td>\n",
       "      <td>-0.344746</td>\n",
       "      <td>-0.547114</td>\n",
       "      <td>-0.104970</td>\n",
       "      <td>...</td>\n",
       "      <td>-0.005855</td>\n",
       "      <td>0.000195</td>\n",
       "      <td>-0.004536</td>\n",
       "      <td>0.000029</td>\n",
       "      <td>0.001426</td>\n",
       "      <td>-0.001408</td>\n",
       "      <td>-0.001531</td>\n",
       "      <td>-0.000066</td>\n",
       "      <td>0.000485</td>\n",
       "      <td>6.673217e-04</td>\n",
       "    </tr>\n",
       "    <tr>\n",
       "      <th>712</th>\n",
       "      <td>0.703521</td>\n",
       "      <td>-0.632103</td>\n",
       "      <td>-1.038280</td>\n",
       "      <td>-0.521101</td>\n",
       "      <td>-1.338915</td>\n",
       "      <td>1.113471</td>\n",
       "      <td>-0.766494</td>\n",
       "      <td>0.426910</td>\n",
       "      <td>-0.659554</td>\n",
       "      <td>0.888425</td>\n",
       "      <td>...</td>\n",
       "      <td>0.002675</td>\n",
       "      <td>0.008048</td>\n",
       "      <td>-0.010431</td>\n",
       "      <td>0.000793</td>\n",
       "      <td>0.001058</td>\n",
       "      <td>-0.001557</td>\n",
       "      <td>0.002370</td>\n",
       "      <td>0.000845</td>\n",
       "      <td>0.000134</td>\n",
       "      <td>1.117432e-04</td>\n",
       "    </tr>\n",
       "    <tr>\n",
       "      <th>713</th>\n",
       "      <td>0.703238</td>\n",
       "      <td>-0.513307</td>\n",
       "      <td>-0.501867</td>\n",
       "      <td>-0.455658</td>\n",
       "      <td>0.133741</td>\n",
       "      <td>-0.558617</td>\n",
       "      <td>-0.701749</td>\n",
       "      <td>0.121917</td>\n",
       "      <td>-0.443793</td>\n",
       "      <td>-0.563909</td>\n",
       "      <td>...</td>\n",
       "      <td>-0.013930</td>\n",
       "      <td>0.002076</td>\n",
       "      <td>-0.014566</td>\n",
       "      <td>0.000027</td>\n",
       "      <td>-0.000975</td>\n",
       "      <td>-0.001157</td>\n",
       "      <td>-0.000004</td>\n",
       "      <td>0.000983</td>\n",
       "      <td>0.000129</td>\n",
       "      <td>6.690962e-04</td>\n",
       "    </tr>\n",
       "  </tbody>\n",
       "</table>\n",
       "<p>714 rows × 55 columns</p>\n",
       "</div>"
      ],
      "text/plain": [
       "     principal component 1  principal component 2  principal component 3  \\\n",
       "0                -0.306434              -0.387170              -0.020251   \n",
       "1                 0.183541              -0.566343              -0.948464   \n",
       "2                -0.092406              -0.234847              -0.137715   \n",
       "3                -1.545455              -0.431926              -0.786309   \n",
       "4                -1.531673              -0.483757              -1.104390   \n",
       "5                -1.605052              -0.439849              -0.531210   \n",
       "6                -0.774453              -0.506182               0.254349   \n",
       "7                -0.535069              -0.613579              -0.187693   \n",
       "8                -0.307427              -0.360130               0.245412   \n",
       "9                -0.956908              -0.370371               1.054702   \n",
       "10                5.614783              -0.105928              -0.013669   \n",
       "11               -1.561407               5.805316               0.511312   \n",
       "12               -1.577551              -0.765379              -1.501140   \n",
       "13               -0.831892              -0.382027               0.432770   \n",
       "14                2.647232              -0.375530              -0.529165   \n",
       "15               -1.479245              -0.360236              -0.729867   \n",
       "16                0.010250              -0.525691               0.341557   \n",
       "17               -0.912680              -0.295932               1.162695   \n",
       "18               -0.104338              -0.457865               0.182091   \n",
       "19                1.535431              -0.396601              -0.161745   \n",
       "20               -1.545286              -0.567728              -0.104710   \n",
       "21               -1.612129              -0.620138              -1.349192   \n",
       "22               -0.543441              -0.614723              -0.172733   \n",
       "23                0.884833              -0.623307              -0.924576   \n",
       "24               -1.133368              -0.038275               0.977616   \n",
       "25               -1.003265              -0.485809              -0.071715   \n",
       "26                2.724894              -0.317592              -0.202130   \n",
       "27                4.063900              -0.026757               0.367879   \n",
       "28               -0.785095              -0.505474              -0.243074   \n",
       "29               -1.535384              -0.525177              -1.051086   \n",
       "..                     ...                    ...                    ...   \n",
       "684               3.313500               7.305004               1.401848   \n",
       "685              -1.708888              -0.036408               0.065999   \n",
       "686              -1.200959              -0.301386              -0.634437   \n",
       "687               3.387805              -0.381403              -0.878719   \n",
       "688              -1.527698              -0.478936              -1.109424   \n",
       "689              -1.577977              -0.647694              -1.257822   \n",
       "690              -1.580534              -0.524686              -0.899211   \n",
       "691              -0.345130              -0.252139               0.155536   \n",
       "692              -0.683517              -0.425302               0.338787   \n",
       "693              -0.151955              -0.241613               0.552850   \n",
       "694              -0.603498              -0.430868              -0.047715   \n",
       "695              -1.629945              -0.562179              -1.026994   \n",
       "696              -1.289239              -0.476346              -0.468572   \n",
       "697              -0.509910               0.201315               2.631400   \n",
       "698              -0.943820              -0.658718              -0.505886   \n",
       "699              -1.067987              -0.062823               1.371426   \n",
       "700               2.625929              -0.431097              -0.525744   \n",
       "701               2.720958              -0.540473              -1.146783   \n",
       "702              -1.631378              -0.559683              -0.718615   \n",
       "703              -0.638283              -0.173250               1.994567   \n",
       "704              -0.629472              -0.616348              -0.737428   \n",
       "705              -1.690602              -0.359136              -0.394156   \n",
       "706              -0.210280              -0.503929              -0.570647   \n",
       "707              -0.420449              -0.268944               0.445266   \n",
       "708              -0.660287              -0.385087               0.136391   \n",
       "709              -1.516872              -0.493586              -1.062626   \n",
       "710              -1.574552              -0.647867              -1.318350   \n",
       "711              -1.574018              -0.330194              -0.441947   \n",
       "712               0.703521              -0.632103              -1.038280   \n",
       "713               0.703238              -0.513307              -0.501867   \n",
       "\n",
       "     principal component 4  principal component 5  principal component 6  \\\n",
       "0                -0.395931               0.287246              -0.128255   \n",
       "1                -0.681137              -1.905727               2.412042   \n",
       "2                 0.637949               1.046547               0.138671   \n",
       "3                 1.609957               0.107613              -0.444784   \n",
       "4                 1.694268               0.172769              -1.108131   \n",
       "5                 0.619372              -0.237219              -0.856485   \n",
       "6                -1.677963               0.416266              -1.244799   \n",
       "7                -2.319467              -0.869184              -0.527842   \n",
       "8                -0.717619               0.560064              -0.021160   \n",
       "9                -1.024490               0.496312              -0.256491   \n",
       "10                0.247903               1.304744              -0.110995   \n",
       "11                5.386199              13.799767              11.716645   \n",
       "12                0.307438              -1.387223              -1.253956   \n",
       "13               -0.606871               1.069578              -0.289375   \n",
       "14               -0.005094               0.048855               0.560480   \n",
       "15                1.679323               0.201368               0.031976   \n",
       "16               -3.176551              -0.500009              -0.921218   \n",
       "17               -1.689011               1.318148               0.183882   \n",
       "18               -1.412387              -0.040939              -0.650842   \n",
       "19               -0.475501               0.242194               0.824677   \n",
       "20               -0.022122               1.376896               0.104529   \n",
       "21                1.231358              -1.132099              -1.383020   \n",
       "22               -4.021214              -1.901721               3.311997   \n",
       "23               -1.378211              -1.156072              -0.244805   \n",
       "24                1.040441               1.394187               0.222240   \n",
       "25               -1.881141              -0.308823              -0.222877   \n",
       "26               -0.129899               0.306595              -0.452432   \n",
       "27                0.784338               1.278841               0.362827   \n",
       "28               -1.608823              -0.337254              -0.447721   \n",
       "29                0.833971              -0.970243              -0.275667   \n",
       "..                     ...                    ...                    ...   \n",
       "684              -3.516764               0.841143               0.994702   \n",
       "685               2.258105               0.543020              -0.353270   \n",
       "686               2.169928               0.933694              -0.178143   \n",
       "687              -0.410722              -0.012595              -0.388827   \n",
       "688               1.426057               0.113522              -0.651575   \n",
       "689               0.898539              -1.188030              -0.313433   \n",
       "690               1.329213              -0.718629              -0.313322   \n",
       "691               0.137626               1.360441              -0.057834   \n",
       "692              -1.848849               0.165543               0.004395   \n",
       "693              -0.372332               1.597843              -0.102206   \n",
       "694              -1.899302               0.261505              -0.558964   \n",
       "695               0.886882              -0.599018              -0.987039   \n",
       "696               0.746406               0.162456              -0.431088   \n",
       "697              -1.705676               0.594431               0.032582   \n",
       "698              -2.196732              -0.925966              -0.805122   \n",
       "699              -1.785546               1.430269               1.133445   \n",
       "700              -1.141432              -0.204980              -0.707492   \n",
       "701              -0.838221              -0.633545              -0.639264   \n",
       "702               0.616291              -0.230634              -0.871447   \n",
       "703              -3.270357               1.360699              -0.133091   \n",
       "704              -1.451463              -0.898697              -0.458025   \n",
       "705               1.886231               1.196197              -0.523988   \n",
       "706              -1.151518              -0.484343              -0.346651   \n",
       "707              -0.594568               1.131157              -0.284916   \n",
       "708              -1.020936               0.209603              -0.401425   \n",
       "709               1.276573              -0.437869              -0.533360   \n",
       "710               0.546569              -0.882077              -1.010287   \n",
       "711               1.760713               0.668974              -0.615906   \n",
       "712              -0.521101              -1.338915               1.113471   \n",
       "713              -0.455658               0.133741              -0.558617   \n",
       "\n",
       "     principal component 7  principal component 8  principal component 9  \\\n",
       "0                -0.171453              -0.196668              -0.249584   \n",
       "1                 0.141963               0.299981              -0.129741   \n",
       "2                -1.043528              -0.401328              -1.717110   \n",
       "3                 0.408823               0.134234              -0.254022   \n",
       "4                -0.294841               0.233590              -0.863099   \n",
       "5                 0.807869               0.083431               1.614743   \n",
       "6                -2.026294               0.726551              -0.952604   \n",
       "7                -1.165119               0.384143               0.539925   \n",
       "8                -0.819134              -0.149091              -1.018731   \n",
       "9                -2.036009               0.798524              -1.708888   \n",
       "10               -0.237626               0.167263              -1.243258   \n",
       "11               -6.393386               1.561938               9.801397   \n",
       "12                0.110694               0.388897               2.020328   \n",
       "13                0.515492              -1.193903              -0.259745   \n",
       "14               -0.455320               0.486329              -1.230223   \n",
       "15                0.212990              -0.057113              -0.296504   \n",
       "16               -0.452391               0.286330               1.271731   \n",
       "17               -0.868250              -0.696117              -1.904164   \n",
       "18                0.863558               0.634852               1.125384   \n",
       "19                0.420968              -0.517480              -0.473970   \n",
       "20                4.318670              -1.309175              -0.272469   \n",
       "21               -0.251267               1.662417               0.749677   \n",
       "22                0.210939              -1.922903              -0.282584   \n",
       "23               -0.050682              -0.428757               1.838589   \n",
       "24               -0.724404              -0.184804              -1.817455   \n",
       "25               -0.947596              -0.351272               0.179522   \n",
       "26               -0.151633              -0.272536               0.060081   \n",
       "27               -0.347934               0.120626              -1.717638   \n",
       "28               -1.308844               0.056960               0.006396   \n",
       "29                0.706656               0.252001               1.204383   \n",
       "..                     ...                    ...                    ...   \n",
       "684               7.560139              13.186816               2.170046   \n",
       "685               0.835670               0.637644              -0.497198   \n",
       "686              -0.046924              -0.348457              -1.482567   \n",
       "687              -0.432593              -0.244277               0.459258   \n",
       "688              -0.060793               0.368687              -0.380307   \n",
       "689               0.446053               0.615648               1.107968   \n",
       "690               0.665740               0.127446               0.647055   \n",
       "691               0.006139               0.054079              -1.467928   \n",
       "692              -1.340187               0.472422              -1.144080   \n",
       "693              -0.427171               0.968354              -1.909519   \n",
       "694              -0.647278               1.525192              -0.820578   \n",
       "695               0.333792               0.058738               1.192285   \n",
       "696               0.986492              -0.558118               0.933460   \n",
       "697              -1.526322               0.348381              -1.113624   \n",
       "698              -1.428801               0.202748               0.950165   \n",
       "699               3.625560              -1.973714               1.791646   \n",
       "700              -0.197337              -0.472162               1.011766   \n",
       "701              -0.739452               0.395454               0.936643   \n",
       "702               1.020220              -0.118904               1.298440   \n",
       "703              -0.824305              -0.603583              -1.566877   \n",
       "704              -0.565541               0.141440               1.175005   \n",
       "705               1.308244              -0.378512              -1.267181   \n",
       "706              -0.681461               0.134260               0.477293   \n",
       "707               0.392284               0.566615              -0.864675   \n",
       "708              -0.136889              -0.275275               0.422760   \n",
       "709               0.034965               0.245019               0.247982   \n",
       "710               0.106448               0.019714               1.501489   \n",
       "711               0.696950              -0.344746              -0.547114   \n",
       "712              -0.766494               0.426910              -0.659554   \n",
       "713              -0.701749               0.121917              -0.443793   \n",
       "\n",
       "     principal component 10  ...  principal component 46  \\\n",
       "0                  0.144441  ...               -0.013923   \n",
       "1                  0.030257  ...                0.005519   \n",
       "2                 -1.246056  ...               -0.014767   \n",
       "3                  0.255177  ...                0.002196   \n",
       "4                 -0.404119  ...               -0.006619   \n",
       "5                  0.721768  ...               -0.026354   \n",
       "6                  0.926994  ...               -0.011955   \n",
       "7                  0.233394  ...               -0.002265   \n",
       "8                 -0.624563  ...                0.005897   \n",
       "9                  0.633010  ...               -0.015322   \n",
       "10                 0.125205  ...                0.010238   \n",
       "11                -0.731004  ...                0.000092   \n",
       "12                 0.397997  ...               -0.001414   \n",
       "13                 0.324629  ...               -0.004831   \n",
       "14                 0.287275  ...                0.001423   \n",
       "15                -0.674030  ...               -0.012868   \n",
       "16                 0.460613  ...               -0.010797   \n",
       "17                 0.582459  ...               -0.014427   \n",
       "18                 0.604033  ...                0.010773   \n",
       "19                 0.421473  ...               -0.001330   \n",
       "20                 5.422700  ...               -0.027247   \n",
       "21                 1.737428  ...               -0.007190   \n",
       "22                -1.690843  ...               -0.021664   \n",
       "23                -0.016040  ...                0.008115   \n",
       "24                -0.680817  ...                0.013069   \n",
       "25                -0.352451  ...               -0.004991   \n",
       "26                -0.183191  ...                0.007254   \n",
       "27                 0.625302  ...                0.018968   \n",
       "28                -0.047585  ...                0.007046   \n",
       "29                 0.273133  ...               -0.021513   \n",
       "..                      ...  ...                     ...   \n",
       "684               -8.599955  ...                0.019823   \n",
       "685                1.231720  ...               -0.041425   \n",
       "686               -0.905806  ...               -0.004568   \n",
       "687               -0.217271  ...               -0.004989   \n",
       "688                0.513376  ...                0.007366   \n",
       "689                0.387473  ...               -0.013773   \n",
       "690                0.031580  ...                0.005057   \n",
       "691                0.926985  ...               -0.010626   \n",
       "692               -0.508902  ...               -0.005854   \n",
       "693               -0.507313  ...               -0.008425   \n",
       "694               -0.757270  ...                0.008747   \n",
       "695                0.149205  ...                0.007586   \n",
       "696                0.307776  ...               -0.012203   \n",
       "697                0.594892  ...               -0.051290   \n",
       "698                0.252263  ...                0.008440   \n",
       "699               -4.421301  ...               -0.009936   \n",
       "700               -0.077909  ...                0.001354   \n",
       "701                0.227102  ...                0.005995   \n",
       "702                1.044560  ...               -0.008097   \n",
       "703                1.481680  ...               -0.003171   \n",
       "704               -0.276035  ...                0.004754   \n",
       "705                1.233686  ...                0.002671   \n",
       "706               -0.460547  ...               -0.020102   \n",
       "707                1.313349  ...               -0.002692   \n",
       "708                0.852159  ...               -0.006125   \n",
       "709               -0.252742  ...                0.005136   \n",
       "710               -0.045611  ...                0.012357   \n",
       "711               -0.104970  ...               -0.005855   \n",
       "712                0.888425  ...                0.002675   \n",
       "713               -0.563909  ...               -0.013930   \n",
       "\n",
       "     principal component 47  principal component 48  principal component 49  \\\n",
       "0                 -0.007710                0.064041                0.002203   \n",
       "1                 -0.000521               -0.009914                0.000951   \n",
       "2                 -0.006239               -0.009432               -0.003862   \n",
       "3                 -0.004956               -0.001071                0.000191   \n",
       "4                  0.000322               -0.003330                0.000157   \n",
       "5                 -0.008452                0.000497                0.001743   \n",
       "6                  0.009027               -0.016558                0.000681   \n",
       "7                 -0.002033                0.000362               -0.001746   \n",
       "8                 -0.007272               -0.015312               -0.001881   \n",
       "9                  0.075421               -0.001670               -0.003039   \n",
       "10                -0.013780               -0.047148               -0.000810   \n",
       "11                 0.000256                0.000059               -0.000241   \n",
       "12                 0.009443               -0.010208               -0.000410   \n",
       "13                -0.006794               -0.002199               -0.000054   \n",
       "14                -0.012669               -0.009286               -0.000005   \n",
       "15                -0.005239                0.004665               -0.000612   \n",
       "16                 0.017738               -0.026332               -0.001527   \n",
       "17                 0.004065               -0.006354               -0.002991   \n",
       "18                 0.034196               -0.014005                0.006040   \n",
       "19                -0.001105               -0.001932               -0.000355   \n",
       "20                 0.004663               -0.012217               -0.002451   \n",
       "21                -0.012996               -0.008204                0.002689   \n",
       "22                 0.006562               -0.010900               -0.008000   \n",
       "23                -0.007428               -0.005214                0.000566   \n",
       "24                 0.157749                0.006676               -0.002938   \n",
       "25                 0.000267               -0.002258               -0.000928   \n",
       "26                 0.056488               -0.032643               -0.002613   \n",
       "27                 0.020708               -0.175979               -0.017900   \n",
       "28                -0.009769               -0.003056               -0.000364   \n",
       "29                -0.019872                0.001981                0.002048   \n",
       "..                      ...                     ...                     ...   \n",
       "684                0.007450                0.027842               -0.013186   \n",
       "685               -0.034560               -0.011102                0.004338   \n",
       "686                0.003993                0.006583               -0.000083   \n",
       "687               -0.012031               -0.004400               -0.001179   \n",
       "688               -0.014690               -0.003417               -0.001343   \n",
       "689                0.000300                0.003260                0.001693   \n",
       "690                0.003113               -0.003601                0.001283   \n",
       "691               -0.010338               -0.007898               -0.001361   \n",
       "692               -0.014962               -0.015053               -0.000542   \n",
       "693               -0.004876               -0.014936                0.005627   \n",
       "694               -0.008264               -0.045277                0.007637   \n",
       "695               -0.001605               -0.005654                0.000165   \n",
       "696                0.004034               -0.008845               -0.000756   \n",
       "697                0.009832               -0.006934               -0.000748   \n",
       "698               -0.003908               -0.005023                0.000045   \n",
       "699               -0.012925                0.005665                0.004808   \n",
       "700               -0.001333               -0.006295               -0.000295   \n",
       "701               -0.008402               -0.017703               -0.000671   \n",
       "702               -0.000867               -0.001632                0.000986   \n",
       "703                0.002164                0.070303               -0.001605   \n",
       "704               -0.012462               -0.012262               -0.000342   \n",
       "705               -0.004936               -0.007806               -0.001032   \n",
       "706               -0.001189               -0.019473               -0.001770   \n",
       "707               -0.001840               -0.033657                0.000879   \n",
       "708               -0.002032               -0.000087                0.000658   \n",
       "709               -0.006708               -0.000109                0.000683   \n",
       "710               -0.001013               -0.002742               -0.000633   \n",
       "711                0.000195               -0.004536                0.000029   \n",
       "712                0.008048               -0.010431                0.000793   \n",
       "713                0.002076               -0.014566                0.000027   \n",
       "\n",
       "     principal component 50  principal component 51  principal component 52  \\\n",
       "0                 -0.002217                0.001758               -0.000998   \n",
       "1                  0.000692               -0.000890               -0.000652   \n",
       "2                 -0.000279                0.000093               -0.000580   \n",
       "3                  0.000744               -0.000608               -0.000221   \n",
       "4                  0.002529               -0.003719               -0.000086   \n",
       "5                  0.002254                0.000803               -0.002979   \n",
       "6                 -0.000464                0.001579                0.001584   \n",
       "7                 -0.001961                0.002854               -0.003044   \n",
       "8                 -0.001281               -0.000608                0.000158   \n",
       "9                 -0.000234                0.000383                0.000496   \n",
       "10                -0.002032               -0.000089                0.001875   \n",
       "11                -0.000071               -0.000304               -0.000070   \n",
       "12                -0.000863               -0.001706               -0.000126   \n",
       "13                 0.000727                0.000984               -0.000734   \n",
       "14                 0.002933                0.001863                0.002731   \n",
       "15                 0.001474                0.001615               -0.000229   \n",
       "16                -0.005168               -0.001584                0.003108   \n",
       "17                 0.002215                0.000011               -0.000120   \n",
       "18                -0.000113               -0.002360               -0.000752   \n",
       "19                 0.000637                0.001765                0.000567   \n",
       "20                -0.001706                0.002895                0.003201   \n",
       "21                 0.002048                0.000546               -0.001635   \n",
       "22                 0.002964               -0.002437                0.001965   \n",
       "23                 0.000687               -0.000537               -0.000238   \n",
       "24                -0.001336                0.001517                0.000772   \n",
       "25                 0.001655                0.001000               -0.000789   \n",
       "26                -0.004432               -0.000598                0.001274   \n",
       "27                -0.027121               -0.013414               -0.003587   \n",
       "28                 0.002287               -0.000630               -0.000686   \n",
       "29                 0.000089                0.000934               -0.002649   \n",
       "..                      ...                     ...                     ...   \n",
       "684               -0.006195                0.002394                0.002369   \n",
       "685                0.005569               -0.000044               -0.006519   \n",
       "686                0.002168               -0.000590                0.001328   \n",
       "687                0.000453               -0.000456               -0.001497   \n",
       "688                0.001225               -0.000610                0.001804   \n",
       "689                0.000639                0.002003               -0.001437   \n",
       "690               -0.000380               -0.000504               -0.002113   \n",
       "691                0.000300                0.001270                0.000994   \n",
       "692               -0.001824               -0.001278               -0.000946   \n",
       "693                0.001516               -0.000177               -0.000387   \n",
       "694                0.000036               -0.004528               -0.001302   \n",
       "695               -0.000264               -0.001522               -0.000297   \n",
       "696                0.000894               -0.000648               -0.000380   \n",
       "697                0.002421                0.004268               -0.001479   \n",
       "698                0.000152                0.001305                0.000762   \n",
       "699               -0.017370               -0.007192               -0.007581   \n",
       "700                0.001327               -0.000575                0.000427   \n",
       "701                0.001196               -0.002194                0.000857   \n",
       "702                0.000595                0.002571                0.000234   \n",
       "703                0.002871               -0.000909                0.001323   \n",
       "704               -0.001609               -0.001064               -0.000892   \n",
       "705                0.000394               -0.000977                0.001075   \n",
       "706               -0.000669               -0.000799               -0.000154   \n",
       "707               -0.003388               -0.001880               -0.000403   \n",
       "708                0.002573               -0.000157               -0.001515   \n",
       "709                0.003656                0.001398                0.000012   \n",
       "710               -0.000965               -0.002319                0.000757   \n",
       "711                0.001426               -0.001408               -0.001531   \n",
       "712                0.001058               -0.001557                0.002370   \n",
       "713               -0.000975               -0.001157               -0.000004   \n",
       "\n",
       "     principal component 53  principal component 54  principal component 55  \n",
       "0                 -0.001145               -0.000887           -2.275424e-04  \n",
       "1                 -0.000602                0.000009            3.128293e-05  \n",
       "2                 -0.000439                0.001442            5.414982e-04  \n",
       "3                  0.000128                0.000467            1.896114e-04  \n",
       "4                 -0.000148               -0.000049            1.206749e-04  \n",
       "5                  0.000052               -0.000650           -6.669187e-04  \n",
       "6                  0.001961                0.001007           -2.832715e-04  \n",
       "7                 -0.002622               -0.000144           -4.136421e-04  \n",
       "8                  0.001579                0.000158            3.402713e-04  \n",
       "9                  0.000528               -0.000095           -6.532276e-04  \n",
       "10                 0.004564                0.000103            1.306198e-04  \n",
       "11                -0.000093                0.000055           -5.040509e-06  \n",
       "12                 0.000235               -0.000621            1.210062e-05  \n",
       "13                -0.000111                0.000890            2.810530e-04  \n",
       "14                 0.001686                0.000542           -1.947375e-04  \n",
       "15                 0.000193                0.000693            3.207331e-04  \n",
       "16                 0.003793                0.002573           -1.300450e-04  \n",
       "17                 0.000912                0.000716           -5.519488e-05  \n",
       "18                -0.000252               -0.000631           -4.108750e-04  \n",
       "19                 0.000333                0.000497           -4.792431e-05  \n",
       "20                 0.000453                0.001231            1.164653e-03  \n",
       "21                -0.000219                0.000209           -7.905965e-04  \n",
       "22                 0.000430               -0.001074            3.665511e-04  \n",
       "23                -0.000566               -0.000612           -1.802764e-04  \n",
       "24                 0.000057               -0.000341           -8.901783e-04  \n",
       "25                -0.000804               -0.000178            9.898901e-05  \n",
       "26                 0.002336               -0.000609           -3.011425e-04  \n",
       "27                 0.011630               -0.000968            5.307723e-05  \n",
       "28                -0.000867               -0.000420            5.948293e-05  \n",
       "29                -0.001297               -0.000059           -5.267077e-04  \n",
       "..                      ...                     ...                     ...  \n",
       "684                0.000590               -0.000534            4.246330e-04  \n",
       "685                0.001024                0.000414           -5.173116e-03  \n",
       "686                0.000715                0.000702           -1.279393e-04  \n",
       "687               -0.001788                0.000358            5.576317e-05  \n",
       "688                0.000026                0.000609            1.892163e-04  \n",
       "689               -0.000560                0.000161           -6.189879e-05  \n",
       "690               -0.000630                0.000029           -1.226995e-04  \n",
       "691                0.001001                0.001004            5.787164e-04  \n",
       "692                0.000324                0.000702            7.116780e-07  \n",
       "693                0.000583                0.001315            3.369600e-04  \n",
       "694                0.000753               -0.000375           -3.271916e-05  \n",
       "695                0.000399               -0.000247           -3.004893e-04  \n",
       "696                0.001363               -0.000096           -2.665679e-04  \n",
       "697                0.002175                0.002551            1.039264e-03  \n",
       "698               -0.000569                0.000005           -2.910379e-04  \n",
       "699                0.000221               -0.000051           -2.388529e-04  \n",
       "700               -0.000320                0.000513           -1.680724e-04  \n",
       "701                0.000405                0.000015           -1.422061e-04  \n",
       "702                0.000944               -0.000061           -5.235565e-06  \n",
       "703                0.000544               -0.002668           -8.722514e-04  \n",
       "704               -0.000405               -0.000171           -2.398418e-04  \n",
       "705                0.000871                0.001081            7.123185e-04  \n",
       "706                0.000767                0.000270            2.676234e-04  \n",
       "707                0.002444                0.001061           -8.166565e-05  \n",
       "708               -0.000416               -0.000017           -9.786609e-04  \n",
       "709                0.000250               -0.000262            8.719727e-05  \n",
       "710               -0.000200               -0.000488            2.810807e-04  \n",
       "711               -0.000066                0.000485            6.673217e-04  \n",
       "712                0.000845                0.000134            1.117432e-04  \n",
       "713                0.000983                0.000129            6.690962e-04  \n",
       "\n",
       "[714 rows x 55 columns]"
      ]
     },
     "execution_count": 193,
     "metadata": {},
     "output_type": "execute_result"
    }
   ],
   "source": [
    "principalDf"
   ]
  },
  {
   "cell_type": "code",
   "execution_count": 194,
   "metadata": {
    "scrolled": true
   },
   "outputs": [
    {
     "data": {
      "text/plain": [
       "array([2.52215038e-01, 1.30000116e-01, 8.12040900e-02, 4.80425512e-02,\n",
       "       3.89484680e-02, 3.53908072e-02, 3.25167050e-02, 2.98156721e-02,\n",
       "       2.86728409e-02, 2.34647621e-02, 2.23304814e-02, 1.96882324e-02,\n",
       "       1.85135383e-02, 1.78706378e-02, 1.72201108e-02, 1.62974787e-02,\n",
       "       1.52590429e-02, 1.46994035e-02, 1.44429227e-02, 1.34382649e-02,\n",
       "       1.26185627e-02, 1.19937290e-02, 1.15541340e-02, 1.14028733e-02,\n",
       "       1.07666219e-02, 9.72271367e-03, 9.60247687e-03, 8.85145693e-03,\n",
       "       8.26252462e-03, 7.61728068e-03, 5.56438817e-03, 4.90189251e-03,\n",
       "       4.70627485e-03, 2.95269175e-03, 2.64496751e-03, 2.14274087e-03,\n",
       "       1.37913678e-03, 1.32377646e-03, 4.95320728e-04, 4.90714374e-04,\n",
       "       4.16790998e-04, 2.57779068e-04, 1.24732260e-04, 8.16891981e-05,\n",
       "       3.17885015e-05, 2.13262740e-05, 1.92122740e-05, 1.42519761e-05,\n",
       "       2.74434349e-06, 1.73819973e-06, 1.13212082e-06, 7.04919640e-07,\n",
       "       4.23531772e-07, 1.70088582e-07, 7.47135872e-08])"
      ]
     },
     "execution_count": 194,
     "metadata": {},
     "output_type": "execute_result"
    }
   ],
   "source": [
    "pca.explained_variance_ratio_"
   ]
  },
  {
   "cell_type": "code",
   "execution_count": 195,
   "metadata": {},
   "outputs": [
    {
     "data": {
      "text/plain": [
       "array([1.38912827e+01, 7.16003442e+00, 4.47248894e+00, 2.64604626e+00,\n",
       "       2.14517018e+00, 1.94922440e+00, 1.79092708e+00, 1.64216191e+00,\n",
       "       1.57921804e+00, 1.29237196e+00, 1.22989903e+00, 1.08437151e+00,\n",
       "       1.01967272e+00, 9.84263602e-01, 9.48434436e-01, 8.97618495e-01,\n",
       "       8.40424427e-01, 8.09601085e-01, 7.95474860e-01, 7.40141180e-01,\n",
       "       6.94994331e-01, 6.60580279e-01, 6.36368643e-01, 6.28037633e-01,\n",
       "       5.92994728e-01, 5.35499251e-01, 5.28876952e-01, 4.87512922e-01,\n",
       "       4.55076216e-01, 4.19538026e-01, 3.06470580e-01, 2.69982215e-01,\n",
       "       2.59208154e-01, 1.62625814e-01, 1.45677243e-01, 1.18016037e-01,\n",
       "       7.59589080e-02, 7.29098200e-02, 2.72808485e-02, 2.70271437e-02,\n",
       "       2.29556557e-02, 1.41977335e-02, 6.86989600e-03, 4.49920731e-03,\n",
       "       1.75081971e-03, 1.17459015e-03, 1.05815708e-03, 7.84958065e-04,\n",
       "       1.51150587e-04, 9.57350681e-05, 6.23539756e-05, 3.88249569e-05,\n",
       "       2.33269182e-05, 9.36799247e-06, 4.11501061e-06])"
      ]
     },
     "execution_count": 195,
     "metadata": {},
     "output_type": "execute_result"
    }
   ],
   "source": [
    "pca.explained_variance_"
   ]
  },
  {
   "cell_type": "code",
   "execution_count": 196,
   "metadata": {},
   "outputs": [],
   "source": [
    "eig_values = pca.explained_variance_\n",
    "eig_vectors = pca.components_\n",
    "# print(eig_values)\n",
    "# print(eig_vectors)"
   ]
  },
  {
   "cell_type": "code",
   "execution_count": 197,
   "metadata": {},
   "outputs": [],
   "source": [
    "pc1 = pca.components_[0]\n",
    "pc2 = pca.components_[1]\n",
    "pc3 = pca.components_[2]"
   ]
  },
  {
   "cell_type": "code",
   "execution_count": 198,
   "metadata": {
    "scrolled": true
   },
   "outputs": [
    {
     "data": {
      "text/plain": [
       "pinches_count         0.994958\n",
       "meandrawdist_count    0.993985\n",
       "numshapes_count       0.993387\n",
       "figure8_count         0.993116\n",
       "spiral_count          0.993024\n",
       "circle_count          0.992958\n",
       "topbottom_count       0.992933\n",
       "bottomtop_count       0.992879\n",
       "square_count          0.992755\n",
       "mood_count            0.983597\n",
       "sway_count            0.956755\n",
       "turns_count           0.919663\n",
       "bips_count            0.915100\n",
       "ips_count             0.914813\n",
       "mobility_count        0.523783\n",
       "pinches_var           0.211592\n",
       "numshapes_var         0.202239\n",
       "shapehand_var         0.179250\n",
       "pinchhand_var         0.166810\n",
       "age                   0.156983\n",
       "meandrawdist_var      0.145321\n",
       "square_var            0.142654\n",
       "turns_var             0.130956\n",
       "bottomtop_var         0.120860\n",
       "circle_var            0.115875\n",
       "topbottom_var         0.105352\n",
       "pinches_mean          0.086433\n",
       "ips_var               0.084998\n",
       "mood_var              0.077879\n",
       "bips_var              0.075694\n",
       "spiral_var            0.072834\n",
       "numshapes_mean        0.054374\n",
       "turnspeed_var         0.051170\n",
       "figure8_var           0.046362\n",
       "sway_var              0.029908\n",
       "ipstime_var           0.019847\n",
       "turns_mean            0.019489\n",
       "BMI                   0.017237\n",
       "bips_mean             0.013422\n",
       "turnspeed_mean        0.005160\n",
       "mood_mean            -0.011410\n",
       "bipstime_var         -0.015739\n",
       "mobility_mean        -0.024440\n",
       "mobility_var         -0.029960\n",
       "ipstime_mean         -0.032032\n",
       "bipstime_mean        -0.039733\n",
       "bottomtop_mean       -0.042156\n",
       "sway_mean            -0.044166\n",
       "spiral_mean          -0.045336\n",
       "topbottom_mean       -0.045432\n",
       "figure8_mean         -0.045829\n",
       "circle_mean          -0.046266\n",
       "ips_mean             -0.047463\n",
       "meandrawdist_mean    -0.048558\n",
       "square_mean          -0.052321\n",
       "dtype: float64"
      ]
     },
     "execution_count": 198,
     "metadata": {},
     "output_type": "execute_result"
    }
   ],
   "source": [
    "structure_loading_1 = pc1* np.sqrt(eig_values[0])\n",
    "str_loading_1 = pd.Series(structure_loading_1, index=features)\n",
    "str_loading_1.sort_values(ascending = False)"
   ]
  },
  {
   "cell_type": "code",
   "execution_count": 199,
   "metadata": {
    "scrolled": true
   },
   "outputs": [
    {
     "data": {
      "text/plain": [
       "circle_mean           0.989659\n",
       "figure8_mean          0.988983\n",
       "meandrawdist_mean     0.988824\n",
       "spiral_mean           0.987807\n",
       "topbottom_mean        0.986952\n",
       "square_mean           0.973947\n",
       "bottomtop_mean        0.970852\n",
       "bipstime_mean         0.292715\n",
       "ipstime_mean          0.280447\n",
       "ipstime_var           0.123085\n",
       "meandrawdist_var      0.117547\n",
       "bottomtop_var         0.108951\n",
       "topbottom_var         0.100453\n",
       "circle_var            0.096691\n",
       "square_var            0.090344\n",
       "spiral_var            0.086489\n",
       "bipstime_var          0.081488\n",
       "figure8_var           0.050094\n",
       "ips_var               0.049762\n",
       "turns_count           0.042955\n",
       "bips_var              0.040926\n",
       "sway_count            0.039528\n",
       "numshapes_count       0.036019\n",
       "mood_mean             0.023383\n",
       "pinches_count         0.018226\n",
       "meandrawdist_count    0.018200\n",
       "square_count          0.017754\n",
       "figure8_count         0.017302\n",
       "topbottom_count       0.017277\n",
       "circle_count          0.017250\n",
       "bottomtop_count       0.017193\n",
       "spiral_count          0.017120\n",
       "mood_count            0.016870\n",
       "turnspeed_var         0.013621\n",
       "numshapes_var         0.013429\n",
       "sway_mean             0.010934\n",
       "shapehand_var         0.010402\n",
       "bips_count            0.009424\n",
       "turns_var             0.009022\n",
       "sway_var              0.008813\n",
       "ips_count             0.007632\n",
       "pinchhand_var         0.007042\n",
       "pinches_var          -0.007100\n",
       "mood_var             -0.012936\n",
       "BMI                  -0.016017\n",
       "turnspeed_mean       -0.022607\n",
       "turns_mean           -0.026881\n",
       "mobility_count       -0.033003\n",
       "age                  -0.040619\n",
       "mobility_var         -0.043362\n",
       "mobility_mean        -0.046211\n",
       "numshapes_mean       -0.095165\n",
       "pinches_mean         -0.109515\n",
       "ips_mean             -0.204022\n",
       "bips_mean            -0.223929\n",
       "dtype: float64"
      ]
     },
     "execution_count": 199,
     "metadata": {},
     "output_type": "execute_result"
    }
   ],
   "source": [
    "structure_loading_2 = pc2* np.sqrt(eig_values[1])\n",
    "str_loading_2 = pd.Series(structure_loading_2, index=features)\n",
    "str_loading_2.sort_values(ascending = False)"
   ]
  },
  {
   "cell_type": "code",
   "execution_count": 200,
   "metadata": {
    "scrolled": true
   },
   "outputs": [
    {
     "data": {
      "text/plain": [
       "pinches_count         0.564558\n",
       "meandrawdist_count    0.564005\n",
       "numshapes_count       0.563666\n",
       "figure8_count         0.563512\n",
       "spiral_count          0.563460\n",
       "circle_count          0.563423\n",
       "topbottom_count       0.563408\n",
       "bottomtop_count       0.563378\n",
       "square_count          0.563308\n",
       "mood_count            0.558111\n",
       "sway_count            0.542880\n",
       "turns_count           0.521834\n",
       "bips_count            0.519244\n",
       "ips_count             0.519082\n",
       "mobility_count        0.297204\n",
       "pinches_var           0.120061\n",
       "numshapes_var         0.114754\n",
       "shapehand_var         0.101710\n",
       "pinchhand_var         0.094651\n",
       "age                   0.089075\n",
       "meandrawdist_var      0.082458\n",
       "square_var            0.080945\n",
       "turns_var             0.074307\n",
       "bottomtop_var         0.068578\n",
       "circle_var            0.065749\n",
       "topbottom_var         0.059779\n",
       "pinches_mean          0.049044\n",
       "ips_var               0.048230\n",
       "mood_var              0.044190\n",
       "bips_var              0.042950\n",
       "spiral_var            0.041328\n",
       "numshapes_mean        0.030853\n",
       "turnspeed_var         0.029035\n",
       "figure8_var           0.026307\n",
       "sway_var              0.016970\n",
       "ipstime_var           0.011261\n",
       "turns_mean            0.011058\n",
       "BMI                   0.009781\n",
       "bips_mean             0.007616\n",
       "turnspeed_mean        0.002928\n",
       "mood_mean            -0.006474\n",
       "bipstime_var         -0.008931\n",
       "mobility_mean        -0.013868\n",
       "mobility_var         -0.017000\n",
       "ipstime_mean         -0.018176\n",
       "bipstime_mean        -0.022545\n",
       "bottomtop_mean       -0.023920\n",
       "sway_mean            -0.025060\n",
       "spiral_mean          -0.025725\n",
       "topbottom_mean       -0.025779\n",
       "figure8_mean         -0.026004\n",
       "circle_mean          -0.026252\n",
       "ips_mean             -0.026931\n",
       "meandrawdist_mean    -0.027553\n",
       "square_mean          -0.029688\n",
       "dtype: float64"
      ]
     },
     "execution_count": 200,
     "metadata": {},
     "output_type": "execute_result"
    }
   ],
   "source": [
    "structure_loading_3 = pc1* np.sqrt(eig_values[2])\n",
    "str_loading_3 = pd.Series(structure_loading_3, index=features)\n",
    "str_loading_3.sort_values(ascending = False)"
   ]
  },
  {
   "cell_type": "code",
   "execution_count": 201,
   "metadata": {
    "scrolled": true
   },
   "outputs": [
    {
     "data": {
      "text/plain": [
       "Text(0, 0.5, 'proportion of explained variance')"
      ]
     },
     "execution_count": 201,
     "metadata": {},
     "output_type": "execute_result"
    },
    {
     "data": {
      "image/png": "[encoded data removed]",
      "text/plain": [
       "<Figure size 432x288 with 1 Axes>"
      ]
     },
     "metadata": {
      "needs_background": "light"
     },
     "output_type": "display_data"
    }
   ],
   "source": [
    "index = np.arange(len(features))\n",
    "plt.bar(index, pca.explained_variance_ratio_)\n",
    "plt.title('Scree plot for PCA')\n",
    "plt.xlabel('Num of components')\n",
    "plt.ylabel('proportion of explained variance')"
   ]
  },
  {
   "cell_type": "code",
   "execution_count": 202,
   "metadata": {
    "scrolled": true
   },
   "outputs": [
    {
     "data": {
      "text/plain": [
       "Text(0, 0.5, 'explained variance ratio')"
      ]
     },
     "execution_count": 202,
     "metadata": {},
     "output_type": "execute_result"
    },
    {
     "data": {
      "image/png": "[encoded data removed]",
      "text/plain": [
       "<Figure size 432x288 with 1 Axes>"
      ]
     },
     "metadata": {
      "needs_background": "light"
     },
     "output_type": "display_data"
    }
   ],
   "source": [
    "plt.plot(np.cumsum(pca.explained_variance_ratio_))\n",
    "plt.xlabel('number of components')\n",
    "plt.ylabel('explained variance ratio')"
   ]
  },
  {
   "cell_type": "code",
   "execution_count": 226,
   "metadata": {},
   "outputs": [],
   "source": [
    "pcstrain = principalDf.iloc[:, :3]"
   ]
  },
  {
   "cell_type": "code",
   "execution_count": 227,
   "metadata": {},
   "outputs": [],
   "source": [
    "dumtrain = X_train.iloc[:, -11:]\n",
    "dumtest = X_test.iloc[:, -11:]"
   ]
  },
  {
   "cell_type": "code",
   "execution_count": 228,
   "metadata": {},
   "outputs": [],
   "source": [
    "pcstrain.set_index(dumtrain.index, inplace = True)"
   ]
  },
  {
   "cell_type": "code",
   "execution_count": 229,
   "metadata": {},
   "outputs": [],
   "source": [
    "training = dumtrain.merge(pcstrain, left_index=True, right_index=True)\n",
    "# training = training dataset after PCA; y_train is training results"
   ]
  },
  {
   "cell_type": "code",
   "execution_count": 230,
   "metadata": {},
   "outputs": [],
   "source": [
    "principaldftest = pd.DataFrame(data = principalComponentstest, columns = cols)"
   ]
  },
  {
   "cell_type": "code",
   "execution_count": 231,
   "metadata": {
    "scrolled": true
   },
   "outputs": [],
   "source": [
    "pcstest = principaldftest.iloc[:, :3]\n",
    "pcstest.set_index(dumtest.index, inplace = True)\n",
    "testing = dumtest.merge(pcstest, left_index = True, right_index=True)\n",
    "# testing = testing dataset after PCA; y_test is test results"
   ]
  },
  {
   "cell_type": "markdown",
   "metadata": {},
   "source": [
    "above: splitting data after PCA\n",
    "\n",
    "below: logistic regression"
   ]
  },
  {
   "cell_type": "code",
   "execution_count": 241,
   "metadata": {},
   "outputs": [],
   "source": [
    "from sklearn.linear_model import LogisticRegression"
   ]
  },
  {
   "cell_type": "code",
   "execution_count": 251,
   "metadata": {
    "scrolled": true
   },
   "outputs": [
    {
     "data": {
      "text/plain": [
       "0.6820728291316527"
      ]
     },
     "execution_count": 251,
     "metadata": {},
     "output_type": "execute_result"
    }
   ],
   "source": [
    "logreg = LogisticRegression().fit(training,y_train)\n",
    "logreg.score(vals, , sample_weight=None)"
   ]
  },
  {
   "cell_type": "code",
   "execution_count": 245,
   "metadata": {
    "scrolled": true
   },
   "outputs": [
    {
     "data": {
      "text/plain": [
       "GridSearchCV(cv=5, error_score='raise-deprecating',\n",
       "       estimator=LogisticRegression(C=1.0, class_weight=None, dual=False, fit_intercept=True,\n",
       "          intercept_scaling=1, max_iter=100, multi_class='warn',\n",
       "          n_jobs=None, penalty='l2', random_state=None, solver='warn',\n",
       "          tol=0.0001, verbose=0, warm_start=False),\n",
       "       fit_params=None, iid='warn', n_jobs=None,\n",
       "       param_grid={'C': array([1.e-03, 1.e-02, 1.e-01, 1.e+00, 1.e+01, 1.e+02, 1.e+03]), 'penalty': ['l1', 'l2']},\n",
       "       pre_dispatch='2*n_jobs', refit=True, return_train_score='warn',\n",
       "       scoring=None, verbose=0)"
      ]
     },
     "execution_count": 245,
     "metadata": {},
     "output_type": "execute_result"
    }
   ],
   "source": [
    "from sklearn.model_selection import GridSearchCV\n",
    "grid={\"C\":np.logspace(-3,3,7), \"penalty\":[\"l1\",\"l2\"]}\n",
    "logreg=LogisticRegression()\n",
    "logreg_cv=GridSearchCV(logreg,grid,cv=5)\n",
    "logreg_cv.fit(training,y_train)"
   ]
  },
  {
   "cell_type": "code",
   "execution_count": 248,
   "metadata": {},
   "outputs": [
    {
     "data": {
      "text/plain": [
       "0.680672268907563"
      ]
     },
     "execution_count": 248,
     "metadata": {},
     "output_type": "execute_result"
    }
   ],
   "source": [
    "logreg_cv.score(training, y_train)"
   ]
  },
  {
   "cell_type": "code",
   "execution_count": 252,
   "metadata": {},
   "outputs": [
    {
     "data": {
      "text/plain": [
       "array([[ 3.31412789e-01, -8.42856865e-01,  0.00000000e+00,\n",
       "         3.08281415e-01, -1.21830062e+00,  5.33583115e-01,\n",
       "        -1.02442818e+00, -8.87681331e-01, -1.89423689e-04,\n",
       "         8.39053352e-01,  9.38237604e-01,  2.13167600e-01,\n",
       "         2.33443454e-01, -3.90333639e-02]])"
      ]
     },
     "execution_count": 252,
     "metadata": {},
     "output_type": "execute_result"
    }
   ],
   "source": [
    "logreg.coef_"
   ]
  },
  {
   "cell_type": "code",
   "execution_count": 253,
   "metadata": {},
   "outputs": [
    {
     "data": {
      "text/plain": [
       "array([-0.51144408])"
      ]
     },
     "execution_count": 253,
     "metadata": {},
     "output_type": "execute_result"
    }
   ],
   "source": [
    "logreg.intercept_"
   ]
  },
  {
   "cell_type": "code",
   "execution_count": 254,
   "metadata": {},
   "outputs": [],
   "source": [
    "y_pred = logreg_cv.predict(testing)"
   ]
  },
  {
   "cell_type": "code",
   "execution_count": 256,
   "metadata": {
    "scrolled": false
   },
   "outputs": [
    {
     "data": {
      "text/plain": [
       "array([[58, 32],\n",
       "       [18, 71]])"
      ]
     },
     "execution_count": 256,
     "metadata": {},
     "output_type": "execute_result"
    }
   ],
   "source": [
    "from sklearn.metrics import confusion_matrix\n",
    "\n",
    "confusion_matrix(y_test, y_pred)\n"
   ]
  },
  {
   "cell_type": "code",
   "execution_count": null,
   "metadata": {},
   "outputs": [],
   "source": [
    "############"
   ]
  },
  {
   "cell_type": "markdown",
   "metadata": {},
   "source": [
    "below: xgboost"
   ]
  },
  {
   "cell_type": "code",
   "execution_count": 257,
   "metadata": {},
   "outputs": [],
   "source": [
    "import xgboost as xgb"
   ]
  },
  {
   "cell_type": "code",
   "execution_count": 263,
   "metadata": {},
   "outputs": [
    {
     "data": {
      "text/plain": [
       "HC    455\n",
       "MS    438\n",
       "Name: diagnosis, dtype: int64"
      ]
     },
     "execution_count": 263,
     "metadata": {},
     "output_type": "execute_result"
    }
   ],
   "source": [
    "maindf.diagnosis.value_counts()"
   ]
  },
  {
   "cell_type": "code",
   "execution_count": 262,
   "metadata": {
    "scrolled": true
   },
   "outputs": [
    {
     "name": "stdout",
     "output_type": "stream",
     "text": [
      "Training Accuracy: 82.49%\n",
      "Testing accuracy: 65.92%\n"
     ]
    }
   ],
   "source": [
    "xg = xgb.XGBClassifier()\n",
    "xg.fit(training, y_train)\n",
    "training_preds = xg.predict(training)\n",
    "val_preds = xg.predict(testing)\n",
    "training_accuracy = accuracy_score(y_train, training_preds)\n",
    "val_accuracy = accuracy_score(y_test, val_preds)\n",
    "\n",
    "print(\"Training Accuracy: {:.4}%\".format(training_accuracy * 100))\n",
    "print(\"Testing accuracy: {:.4}%\".format(val_accuracy * 100))"
   ]
  },
  {
   "cell_type": "code",
   "execution_count": 274,
   "metadata": {
    "scrolled": false
   },
   "outputs": [
    {
     "name": "stdout",
     "output_type": "stream",
     "text": [
      "Grid Search found the following optimal parameters: \n",
      "learning_rate: 0.1\n",
      "max_depth: 3\n",
      "min_child_weight: 10\n",
      "n_estimators: 30\n",
      "subsample: 0.8\n",
      "\n",
      "Training Accuracy: 75.35%\n",
      "Validation accuracy: 68.72%\n"
     ]
    }
   ],
   "source": [
    "param_grid = {\n",
    "    \"learning_rate\": [0.1],\n",
    "    'max_depth': [1, 2, 3, 4, 5],\n",
    "    'min_child_weight': [5, 10, 20],\n",
    "    'subsample': [0.7, 0.8],\n",
    "    'n_estimators': [5, 30, 100, 250],\n",
    "}\n",
    "\n",
    "grid_xg = GridSearchCV(clf, param_grid, scoring='accuracy', cv=None, n_jobs=1)\n",
    "grid_xg.fit(training, y_train)\n",
    "\n",
    "best_parameters = grid_xg.best_params_\n",
    "\n",
    "print(\"Grid Search found the following optimal parameters: \")\n",
    "for param_name in sorted(best_parameters.keys()):\n",
    "    print(\"%s: %r\" % (param_name, best_parameters[param_name]))\n",
    "\n",
    "training_preds = grid_xg.predict(training)\n",
    "val_preds = grid_xg.predict(testing)\n",
    "training_accuracy = accuracy_score(y_train, training_preds)\n",
    "val_accuracy = accuracy_score(y_test, val_preds)\n",
    "\n",
    "print(\"\")\n",
    "print(\"Training Accuracy: {:.4}%\".format(training_accuracy * 100))\n",
    "print(\"Validation accuracy: {:.4}%\".format(val_accuracy * 100))"
   ]
  },
  {
   "cell_type": "code",
   "execution_count": 275,
   "metadata": {
    "scrolled": true
   },
   "outputs": [
    {
     "data": {
      "text/plain": [
       "array([[62, 28],\n",
       "       [28, 61]])"
      ]
     },
     "execution_count": 275,
     "metadata": {},
     "output_type": "execute_result"
    }
   ],
   "source": [
    "confusion_matrix(y_test, val_preds)"
   ]
  },
  {
   "cell_type": "code",
   "execution_count": null,
   "metadata": {},
   "outputs": [],
   "source": [
    "#######"
   ]
  },
  {
   "cell_type": "code",
   "execution_count": 259,
   "metadata": {},
   "outputs": [],
   "source": [
    "from sklearn.metrics import accuracy_score, confusion_matrix, classification_report\n",
    "from sklearn.tree import DecisionTreeClassifier\n",
    "from sklearn.ensemble import BaggingClassifier, RandomForestClassifier"
   ]
  },
  {
   "cell_type": "code",
   "execution_count": 65,
   "metadata": {},
   "outputs": [],
   "source": [
    "data = forlog[forlog.columns[2:-1]]\n",
    "target = forlog.diagnosis"
   ]
  },
  {
   "cell_type": "code",
   "execution_count": 679,
   "metadata": {},
   "outputs": [],
   "source": [
    "data_train, data_test, target_train, target_test = train_test_split(data, target, \n",
    "                                                                   test_size = 0.25, random_state=123)"
   ]
  },
  {
   "cell_type": "code",
   "execution_count": 712,
   "metadata": {},
   "outputs": [
    {
     "data": {
      "text/plain": [
       "RandomForestClassifier(bootstrap=True, class_weight=None, criterion='gini',\n",
       "            max_depth=5, max_features='auto', max_leaf_nodes=None,\n",
       "            min_impurity_decrease=0.0, min_impurity_split=None,\n",
       "            min_samples_leaf=1, min_samples_split=2,\n",
       "            min_weight_fraction_leaf=0.0, n_estimators=100, n_jobs=None,\n",
       "            oob_score=False, random_state=None, verbose=0,\n",
       "            warm_start=False)"
      ]
     },
     "execution_count": 712,
     "metadata": {},
     "output_type": "execute_result"
    }
   ],
   "source": [
    "forest = RandomForestClassifier(n_estimators=100, max_depth= 5)\n",
    "forest.fit(data_train, target_train)"
   ]
  },
  {
   "cell_type": "code",
   "execution_count": 713,
   "metadata": {},
   "outputs": [
    {
     "data": {
      "text/plain": [
       "0.7548579970104634"
      ]
     },
     "execution_count": 713,
     "metadata": {},
     "output_type": "execute_result"
    }
   ],
   "source": [
    "forest.score(data_train, target_train)"
   ]
  },
  {
   "cell_type": "code",
   "execution_count": 685,
   "metadata": {},
   "outputs": [
    {
     "data": {
      "text/plain": [
       "0.6205357142857143"
      ]
     },
     "execution_count": 685,
     "metadata": {},
     "output_type": "execute_result"
    }
   ],
   "source": [
    "forest.score(data_test, target_test)\n"
   ]
  },
  {
   "cell_type": "code",
   "execution_count": 690,
   "metadata": {
    "scrolled": true
   },
   "outputs": [],
   "source": [
    "def plot_feature_importances(model):\n",
    "    n_features = data_train.shape[1]\n",
    "    plt.figure(figsize=(8,8))\n",
    "    plt.barh(range(n_features), model.feature_importances_, align='center') \n",
    "    plt.yticks(np.arange(n_features), data_train.columns.values) \n",
    "    plt.xlabel(\"Feature importance\")\n",
    "    plt.ylabel(\"Feature\")"
   ]
  },
  {
   "cell_type": "code",
   "execution_count": 299,
   "metadata": {},
   "outputs": [
    {
     "ename": "NameError",
     "evalue": "name 'data_test' is not defined",
     "output_type": "error",
     "traceback": [
      "\u001b[0;31m---------------------------------------------------------------------------\u001b[0m",
      "\u001b[0;31mNameError\u001b[0m                                 Traceback (most recent call last)",
      "\u001b[0;32m<ipython-input-299-40ba59a7eb13>\u001b[0m in \u001b[0;36m<module>\u001b[0;34m\u001b[0m\n\u001b[0;32m----> 1\u001b[0;31m \u001b[0mpred\u001b[0m \u001b[0;34m=\u001b[0m \u001b[0mforest\u001b[0m\u001b[0;34m.\u001b[0m\u001b[0mpredict\u001b[0m\u001b[0;34m(\u001b[0m\u001b[0mdata_test\u001b[0m\u001b[0;34m)\u001b[0m\u001b[0;34m\u001b[0m\u001b[0;34m\u001b[0m\u001b[0m\n\u001b[0m\u001b[1;32m      2\u001b[0m \u001b[0mprint\u001b[0m\u001b[0;34m(\u001b[0m\u001b[0mconfusion_matrix\u001b[0m\u001b[0;34m(\u001b[0m\u001b[0mtarget_test\u001b[0m\u001b[0;34m,\u001b[0m \u001b[0mpred\u001b[0m\u001b[0;34m)\u001b[0m\u001b[0;34m)\u001b[0m\u001b[0;34m\u001b[0m\u001b[0;34m\u001b[0m\u001b[0m\n\u001b[1;32m      3\u001b[0m \u001b[0mprint\u001b[0m\u001b[0;34m(\u001b[0m\u001b[0mclassification_report\u001b[0m\u001b[0;34m(\u001b[0m\u001b[0mtarget_test\u001b[0m\u001b[0;34m,\u001b[0m \u001b[0mpred\u001b[0m\u001b[0;34m)\u001b[0m\u001b[0;34m)\u001b[0m\u001b[0;34m\u001b[0m\u001b[0;34m\u001b[0m\u001b[0m\n",
      "\u001b[0;31mNameError\u001b[0m: name 'data_test' is not defined"
     ]
    }
   ],
   "source": [
    "pred = forest.predict(data_test)\n",
    "print(confusion_matrix(target_test, pred))\n",
    "print(classification_report(target_test, pred))"
   ]
  },
  {
   "cell_type": "code",
   "execution_count": 691,
   "metadata": {},
   "outputs": [],
   "source": [
    "rfc=RandomForestClassifier(random_state=42)\n"
   ]
  },
  {
   "cell_type": "code",
   "execution_count": 702,
   "metadata": {},
   "outputs": [],
   "source": [
    "param_grid = { \n",
    "    'n_estimators': [100, 200, 300],\n",
    "    'max_features': ['auto', 'sqrt', 'log2'],\n",
    "    'max_depth' : [3, 4, 5, 6, 7, 8, 9, 10],\n",
    "    'criterion' :['gini', 'entropy']\n",
    "}"
   ]
  },
  {
   "cell_type": "code",
   "execution_count": 703,
   "metadata": {},
   "outputs": [
    {
     "data": {
      "text/plain": [
       "GridSearchCV(cv=5, error_score='raise-deprecating',\n",
       "       estimator=RandomForestClassifier(bootstrap=True, class_weight=None, criterion='gini',\n",
       "            max_depth=None, max_features='auto', max_leaf_nodes=None,\n",
       "            min_impurity_decrease=0.0, min_impurity_split=None,\n",
       "            min_samples_leaf=1, min_samples_split=2,\n",
       "            min_weight_fraction_leaf=0.0, n_estimators='warn', n_jobs=None,\n",
       "            oob_score=False, random_state=42, verbose=0, warm_start=False),\n",
       "       fit_params=None, iid='warn', n_jobs=None,\n",
       "       param_grid={'n_estimators': [100, 200, 300], 'max_features': ['auto', 'sqrt', 'log2'], 'max_depth': [3, 4, 5, 6, 7, 8, 9, 10], 'criterion': ['gini', 'entropy']},\n",
       "       pre_dispatch='2*n_jobs', refit=True, return_train_score='warn',\n",
       "       scoring=None, verbose=0)"
      ]
     },
     "execution_count": 703,
     "metadata": {},
     "output_type": "execute_result"
    }
   ],
   "source": [
    "CV_rfc = GridSearchCV(estimator=rfc, param_grid=param_grid, cv= 5)\n",
    "CV_rfc.fit(data_train, target_train)"
   ]
  },
  {
   "cell_type": "code",
   "execution_count": 704,
   "metadata": {},
   "outputs": [
    {
     "data": {
      "text/plain": [
       "{'criterion': 'gini',\n",
       " 'max_depth': 6,\n",
       " 'max_features': 'auto',\n",
       " 'n_estimators': 300}"
      ]
     },
     "execution_count": 704,
     "metadata": {},
     "output_type": "execute_result"
    }
   ],
   "source": [
    "CV_rfc.best_params_"
   ]
  },
  {
   "cell_type": "code",
   "execution_count": 723,
   "metadata": {},
   "outputs": [
    {
     "name": "stdout",
     "output_type": "stream",
     "text": [
      "Accuracy for Random Forest on CV data:  0.625\n"
     ]
    }
   ],
   "source": [
    "rfc1=RandomForestClassifier(max_features='auto', n_estimators=300, max_depth=6, criterion='gini')\n",
    "rfc1.fit(data_train, target_train)\n",
    "pred=rfc1.predict(data_test)\n",
    "print(\"Accuracy for Random Forest on CV data: \",accuracy_score(target_test,pred))"
   ]
  },
  {
   "cell_type": "code",
   "execution_count": 60,
   "metadata": {},
   "outputs": [],
   "source": [
    "import xgboost as xgb\n"
   ]
  },
  {
   "cell_type": "code",
   "execution_count": 66,
   "metadata": {},
   "outputs": [],
   "source": [
    "X_train, X_test, y_train, y_test = train_test_split(data, target)"
   ]
  },
  {
   "cell_type": "code",
   "execution_count": null,
   "metadata": {},
   "outputs": [],
   "source": [
    "clf = xgb.XGBClassifier()\n",
    "clf.fit(X_train, y_train)\n",
    "training_preds = clf.predict(X_train)\n",
    "val_preds = clf.predict(X_test)\n",
    "training_accuracy = accuracy_score(y_train, training_preds)\n",
    "val_accuracy = accuracy_score(y_test, val_preds)\n",
    "\n",
    "print(\"Training Accuracy: {:.4}%\".format(training_accuracy * 100))\n",
    "print(\"Validation accuracy: {:.4}%\".format(val_accuracy * 100))"
   ]
  },
  {
   "cell_type": "code",
   "execution_count": null,
   "metadata": {},
   "outputs": [],
   "source": []
  }
 ],
 "metadata": {
  "kernelspec": {
   "display_name": "Python 3",
   "language": "python",
   "name": "python3"
  },
  "language_info": {
   "codemirror_mode": {
    "name": "ipython",
    "version": 3
   },
   "file_extension": ".py",
   "mimetype": "text/x-python",
   "name": "python",
   "nbconvert_exporter": "python",
   "pygments_lexer": "ipython3",
   "version": "3.7.3"
  }
 },
 "nbformat": 4,
 "nbformat_minor": 2
}
