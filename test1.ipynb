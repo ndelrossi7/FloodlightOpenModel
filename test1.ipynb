{
 "cells": [
  {
   "cell_type": "code",
   "execution_count": 653,
   "metadata": {},
   "outputs": [],
   "source": [
    "import pandas as pd\n",
    "import warnings\n",
    "warnings.filterwarnings(\"ignore\")\n",
    "import numpy as np\n",
    "\n",
    "df = pd.read_csv('CombinedTestResultMetric.csv')\n",
    "df.drop(['participantCreatedOn', 'testResultMetricCreatedOn', 'testResultMetricTimestamp1', 'testResultMetricTimestamp2', 'Unnamed: 19'], axis = 1, inplace = True)"
   ]
  },
  {
   "cell_type": "code",
   "execution_count": 654,
   "metadata": {},
   "outputs": [],
   "source": [
    "df['testStartedAt'] = df['testStartedAt'].apply(lambda x: pd.to_datetime(x[0:-10]))\n",
    "df['testEndedAt'] = df['testEndedAt'].apply(lambda x: pd.to_datetime(x[0:-10]))\n",
    "# df['timecomplete'] = (df['testEndedAt'] - df['testStartedAt']).apply(lambda x: x.seconds)"
   ]
  },
  {
   "cell_type": "code",
   "execution_count": 655,
   "metadata": {},
   "outputs": [],
   "source": [
    "df['age'] = [df.testStartedAt[i].year - df.participantBirthYear[i] \n",
    "                    for i in range(0, len(df))]\n",
    "df.drop(['participantBirthYear', 'testStartedAt', 'testEndedAt'], axis = 1, inplace = True)\n",
    "\n",
    "df['participantSex'].replace(['male', 'female'], [0, 1], inplace = True)\n",
    "\n",
    "df['participantIsControl'].replace([True, False], [1, 0], inplace = True)"
   ]
  },
  {
   "cell_type": "code",
   "execution_count": 656,
   "metadata": {},
   "outputs": [],
   "source": [
    "mean = df.groupby(['floodlightOpenId', 'testCode', 'testMetricCode']).mean()[['testResultMetricValue']]\n",
    "mean.columns = ['val_mean']\n",
    "mean_reset = mean.reset_index()\n",
    "mean_reset['test'] = mean_reset['testCode'] + mean_reset['testMetricCode']\n",
    "meantest = mean_reset.drop(['testCode', 'testMetricCode'], axis = 1)\n",
    "meantest = meantest.set_index(['floodlightOpenId', 'test'])\n",
    "meantest = meantest.reset_index()\n",
    "meantest = meantest.pivot(index='floodlightOpenId', columns='test', values=['val_mean'])\n",
    "meantest.columns = [col[0]+col[1] for col in meantest.columns]"
   ]
  },
  {
   "cell_type": "code",
   "execution_count": 657,
   "metadata": {},
   "outputs": [],
   "source": [
    "var = df.groupby(['floodlightOpenId', 'testCode', 'testMetricCode']).var()[['testResultMetricValue']]\n",
    "var.columns = ['val_var']\n",
    "var_reset = var.reset_index()\n",
    "var_reset['test'] = var_reset['testCode'] + var_reset['testMetricCode']\n",
    "vartest = var_reset.drop(['testCode', 'testMetricCode'], axis = 1)\n",
    "vartest = vartest.set_index(['floodlightOpenId', 'test'])\n",
    "vartest = vartest.reset_index()\n",
    "vartest = vartest.pivot(index='floodlightOpenId', columns='test', values=['val_var'])\n",
    "vartest.columns = [col[0]+col[1] for col in vartest.columns]"
   ]
  },
  {
   "cell_type": "code",
   "execution_count": 658,
   "metadata": {},
   "outputs": [],
   "source": [
    "count = df.groupby(['floodlightOpenId', 'testCode', 'testMetricCode']).count()[['testResultMetricValue']]\n",
    "count.columns = ['test_count']\n",
    "count_reset = count.reset_index()\n",
    "count_reset['test'] = count_reset['testCode'] + count_reset['testMetricCode']\n",
    "counttest = count_reset.drop(['testCode', 'testMetricCode'], axis = 1)\n",
    "counttest = counttest.set_index(['floodlightOpenId', 'test'])\n",
    "counttest = counttest.reset_index()\n",
    "counttest = counttest.pivot(index='floodlightOpenId', columns='test', values='test_count')\n",
    "counttest.columns = [col+'_count' for col in counttest.columns]"
   ]
  },
  {
   "cell_type": "code",
   "execution_count": 688,
   "metadata": {},
   "outputs": [],
   "source": [
    "dfs = [meantest, vartest, counttest]\n",
    "maindf = pd.concat(dfs, axis=1)"
   ]
  },
  {
   "cell_type": "code",
   "execution_count": 689,
   "metadata": {},
   "outputs": [
    {
     "data": {
      "text/plain": [
       "[('daily_questions', 'mood_response'),\n",
       " ('draw_a_shape', 'bottom_to_top_hausdorff_distance_best'),\n",
       " ('draw_a_shape', 'circle_hausdorff_distance_best'),\n",
       " ('draw_a_shape', 'figure8_hausdorff_distance_best'),\n",
       " ('draw_a_shape', 'hand_used'),\n",
       " ('draw_a_shape', 'mean_hausdorff_distance_best'),\n",
       " ('draw_a_shape', 'number_shapes_drawn_correctly'),\n",
       " ('draw_a_shape', 'spiral_hausdorff_distance_best'),\n",
       " ('draw_a_shape', 'square_hausdorff_distance_best'),\n",
       " ('draw_a_shape', 'top_to_bottom_hausdorff_distance_best'),\n",
       " ('five_u_turn', 'turn_speed_avg'),\n",
       " ('five_u_turn', 'turns'),\n",
       " ('ips', 'correct_responses'),\n",
       " ('ips', 'response_time_avg'),\n",
       " ('ips_baseline', 'correct_responses'),\n",
       " ('ips_baseline', 'response_time_avg'),\n",
       " ('mobility', 'life_space_daily'),\n",
       " ('pinching', 'hand_used'),\n",
       " ('pinching', 'successful_pinches'),\n",
       " ('static_balance', 'sway_path'),\n",
       " ('two_min_walk', 'steps')]"
      ]
     },
     "execution_count": 689,
     "metadata": {},
     "output_type": "execute_result"
    }
   ],
   "source": [
    "tests = df.groupby(['testCode', 'testMetricCode']).size().reset_index(name=\"Time\")\n",
    "subset = tests[['testCode', 'testMetricCode']]\n",
    "testcombs = [tuple(x) for x in subset.values]\n",
    "testcombs"
   ]
  },
  {
   "cell_type": "code",
   "execution_count": 690,
   "metadata": {},
   "outputs": [],
   "source": [
    "names = ['mood', 'bottomtop', 'circle', 'figure8', 'shapehand', 'meandrawdist', 'numshapes', 'spiral', 'square',\n",
    "        'topbottom', 'turnspeed', 'turns', 'ips', 'ipstime', 'bips', 'bipstime', 'mobility', 'pinchhand', 'pinches',\n",
    "        'sway', 'steps']"
   ]
  },
  {
   "cell_type": "code",
   "execution_count": 691,
   "metadata": {},
   "outputs": [],
   "source": [
    "def cols(names, metric):\n",
    "    allcols = []\n",
    "    for name in names: \n",
    "        allcols.append(name + '_' + metric)\n",
    "    return allcols"
   ]
  },
  {
   "cell_type": "code",
   "execution_count": 692,
   "metadata": {},
   "outputs": [],
   "source": [
    "meancols = cols(names, 'mean')\n",
    "varcols = cols(names, 'var')\n",
    "countcols = cols(names, 'count')"
   ]
  },
  {
   "cell_type": "code",
   "execution_count": 693,
   "metadata": {},
   "outputs": [],
   "source": [
    "allcols = meancols + varcols + countcols"
   ]
  },
  {
   "cell_type": "code",
   "execution_count": 694,
   "metadata": {},
   "outputs": [],
   "source": [
    "maindf.columns = allcols"
   ]
  },
  {
   "cell_type": "code",
   "execution_count": 695,
   "metadata": {},
   "outputs": [],
   "source": [
    "diagnosis = df.groupby(['floodlightOpenId', 'participantIsControl']).size().reset_index()[['floodlightOpenId', 'participantIsControl']]\n",
    "sex = df.groupby(['floodlightOpenId', 'participantSex']).size().reset_index()[['floodlightOpenId', 'participantSex']]\n",
    "country = df.groupby(['floodlightOpenId', 'participantCountryOfResidence']).size().reset_index(name='Time')[['floodlightOpenId', 'participantCountryOfResidence']]\n",
    "age = df.groupby(['floodlightOpenId']).mean().reset_index()[['floodlightOpenId', 'age']]\n",
    "weight = df.groupby(['floodlightOpenId']).mean().reset_index()[['floodlightOpenId', 'participantWeightLbs']]\n",
    "height = df.groupby(['floodlightOpenId']).mean().reset_index()[['floodlightOpenId', 'participantHeightCms']]\n"
   ]
  },
  {
   "cell_type": "code",
   "execution_count": 696,
   "metadata": {},
   "outputs": [],
   "source": [
    "maindf['sex'] = list(sex['participantSex'])\n",
    "maindf['country'] = list(country['participantCountryOfResidence'])\n",
    "maindf['age'] = list(age['age'])\n",
    "maindf['weight'] = list(weight['participantWeightLbs'])\n",
    "maindf['height'] = list(height['participantHeightCms'])\n",
    "maindf['diagnosis'] = list(diagnosis['participantIsControl'])"
   ]
  },
  {
   "cell_type": "code",
   "execution_count": 697,
   "metadata": {},
   "outputs": [],
   "source": [
    "def fillvar(df, metric):\n",
    "    col = np.where(((maindf['{}_var'.format(metric)].isna()) & (maindf['{}_count'.format(metric)] == 1)), \n",
    "             0, maindf['{}_var'.format(metric)])\n",
    "    return col"
   ]
  },
  {
   "cell_type": "code",
   "execution_count": 698,
   "metadata": {},
   "outputs": [],
   "source": [
    "for name in names: \n",
    "    maindf['{}_var'.format(name)] = fillvar(maindf, name)"
   ]
  },
  {
   "cell_type": "code",
   "execution_count": 699,
   "metadata": {},
   "outputs": [],
   "source": [
    "# sum(maindf.isnull().mean(axis=1) > 0.5)\n",
    "\n",
    "thresh = len(maindf) * .5\n",
    "maindf.dropna(thresh = thresh, axis = 1, inplace = True)"
   ]
  },
  {
   "cell_type": "code",
   "execution_count": 700,
   "metadata": {},
   "outputs": [],
   "source": [
    "threshc = len(maindf.columns) * .5\n",
    "maindf.dropna(thresh = threshc, axis = 0, inplace = True)"
   ]
  },
  {
   "cell_type": "code",
   "execution_count": 701,
   "metadata": {},
   "outputs": [
    {
     "name": "stdout",
     "output_type": "stream",
     "text": [
      "0\n",
      "0\n"
     ]
    }
   ],
   "source": [
    "print(sum(maindf.isnull().mean(axis=1) > 0.5))\n",
    "print(sum(maindf.isnull().mean(axis=0) > 0.5))"
   ]
  },
  {
   "cell_type": "code",
   "execution_count": 683,
   "metadata": {
    "scrolled": true
   },
   "outputs": [],
   "source": [
    "def fillna(df, metric):\n",
    "    df = maindf['{}'.format(metric)] = maindf.groupby('diagnosis').transform(lambda x: x.fillna(x.median()))\n",
    "    return df\n",
    "\n",
    "for col in maindf.columns: \n",
    "        maindf['{}'.format(col)] = fillna(maindf, col)"
   ]
  },
  {
   "cell_type": "code",
   "execution_count": 708,
   "metadata": {},
   "outputs": [],
   "source": [
    "maindf.drop(['shapehand_mean', 'pinchhand_mean', 'shapehand_count', 'pinchhand_count'], axis = 1, inplace = True)"
   ]
  },
  {
   "cell_type": "code",
   "execution_count": 703,
   "metadata": {},
   "outputs": [],
   "source": [
    "maindf['{}'.format('mood_mean')] = maindf.groupby('diagnosis').transform(lambda x: x.fillna(x.median()))"
   ]
  },
  {
   "cell_type": "code",
   "execution_count": null,
   "metadata": {},
   "outputs": [],
   "source": []
  }
 ],
 "metadata": {
  "kernelspec": {
   "display_name": "Python 3",
   "language": "python",
   "name": "python3"
  },
  "language_info": {
   "codemirror_mode": {
    "name": "ipython",
    "version": 3
   },
   "file_extension": ".py",
   "mimetype": "text/x-python",
   "name": "python",
   "nbconvert_exporter": "python",
   "pygments_lexer": "ipython3",
   "version": "3.7.3"
  }
 },
 "nbformat": 4,
 "nbformat_minor": 2
}
