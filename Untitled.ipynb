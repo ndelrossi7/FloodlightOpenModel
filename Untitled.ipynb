{
 "cells": [
  {
   "cell_type": "code",
   "execution_count": 329,
   "metadata": {},
   "outputs": [],
   "source": [
    "import pandas as pd\n",
    "import warnings\n",
    "warnings.filterwarnings(\"ignore\")"
   ]
  },
  {
   "cell_type": "code",
   "execution_count": 499,
   "metadata": {},
   "outputs": [],
   "source": [
    "df = pd.read_csv('CombinedTestResultMetric.csv')"
   ]
  },
  {
   "cell_type": "code",
   "execution_count": 507,
   "metadata": {},
   "outputs": [],
   "source": [
    "df.drop(['participantCreatedOn', 'testResultMetricCreatedOn', 'testResultMetricTimestamp1', 'testResultMetricTimestamp2', 'Unnamed: 19'], axis = 1, inplace = True)\n",
    "# dfindexed = df.set_index(['floodlightOpenId', 'testCode', 'testMetricCode'])"
   ]
  },
  {
   "cell_type": "code",
   "execution_count": 502,
   "metadata": {},
   "outputs": [],
   "source": [
    "df['testStartedAt'] = df['testStartedAt'].apply(lambda x: pd.to_datetime(x[0:-10]))\n",
    "df['testEndedAt'] = df['testEndedAt'].apply(lambda x: pd.to_datetime(x[0:-10]))\n",
    "df['timecomplete'] = (df['testEndedAt'] - df['testStartedAt']).apply(lambda x: x.seconds)"
   ]
  },
  {
   "cell_type": "code",
   "execution_count": 503,
   "metadata": {},
   "outputs": [],
   "source": [
    "df['age'] = [df.testStartedAt[i].year - df.participantBirthYear[i] \n",
    "                    for i in range(0, len(df))]\n",
    "df.drop(['participantBirthYear', 'testStartedAt', 'testEndedAt'], axis = 1, inplace = True)"
   ]
  },
  {
   "cell_type": "code",
   "execution_count": 504,
   "metadata": {},
   "outputs": [],
   "source": [
    "df['participantSex'].replace(['male', 'female'], [0, 1], inplace = True)"
   ]
  },
  {
   "cell_type": "code",
   "execution_count": 648,
   "metadata": {},
   "outputs": [],
   "source": [
    "df['participantIsControl'].replace([True, False], [1, 0], inplace = True)"
   ]
  },
  {
   "cell_type": "code",
   "execution_count": 566,
   "metadata": {},
   "outputs": [
    {
     "data": {
      "text/plain": [
       "1043"
      ]
     },
     "execution_count": 566,
     "metadata": {},
     "output_type": "execute_result"
    }
   ],
   "source": [
    "df.floodlightOpenId.nunique()"
   ]
  },
  {
   "cell_type": "code",
   "execution_count": 450,
   "metadata": {},
   "outputs": [],
   "source": [
    "# alldf = testdfs[0]\n",
    "for df_ in testdfs[1:]:\n",
    "    alldf = df.merge(df_, how = 'outer')"
   ]
  },
  {
   "cell_type": "code",
   "execution_count": 511,
   "metadata": {
    "scrolled": true
   },
   "outputs": [],
   "source": [
    "var = df.groupby(['floodlightOpenId', 'testCode', 'testMetricCode']).var()[['testResultMetricValue', 'timecomplete']]"
   ]
  },
  {
   "cell_type": "code",
   "execution_count": 524,
   "metadata": {},
   "outputs": [],
   "source": [
    "var.rename({'testResultMetricValue': 'val_var', 'timecomplete': 'time_var'}, axis = 1, inplace = True)"
   ]
  },
  {
   "cell_type": "code",
   "execution_count": 526,
   "metadata": {},
   "outputs": [],
   "source": [
    "mean = df.groupby(['floodlightOpenId', 'testCode', 'testMetricCode']).mean()[['testResultMetricValue', \n",
    "                                                                              'timecomplete']]"
   ]
  },
  {
   "cell_type": "code",
   "execution_count": 528,
   "metadata": {},
   "outputs": [],
   "source": [
    "mean.rename({'testResultMetricValue': 'val_mean', 'timecomplete': 'time_mean'}, axis = 1, inplace = True)"
   ]
  },
  {
   "cell_type": "code",
   "execution_count": 535,
   "metadata": {},
   "outputs": [],
   "source": [
    "count = df.groupby(['floodlightOpenId', 'testCode', 'testMetricCode']).count()[['testResultMetricValue']]"
   ]
  },
  {
   "cell_type": "code",
   "execution_count": 538,
   "metadata": {},
   "outputs": [],
   "source": [
    "count.rename({'testResultMetricValue': 'count'}, axis = 1, inplace = True)"
   ]
  },
  {
   "cell_type": "code",
   "execution_count": 615,
   "metadata": {
    "scrolled": true
   },
   "outputs": [],
   "source": [
    "mean_reset = mean.reset_index()"
   ]
  },
  {
   "cell_type": "code",
   "execution_count": 617,
   "metadata": {
    "scrolled": true
   },
   "outputs": [],
   "source": [
    "mean_reset['test'] = mean_reset['testCode'] + mean_reset['testMetricCode']"
   ]
  },
  {
   "cell_type": "code",
   "execution_count": 618,
   "metadata": {},
   "outputs": [],
   "source": [
    "meantest = mean_reset.drop(['testCode', 'testMetricCode'], axis = 1)"
   ]
  },
  {
   "cell_type": "code",
   "execution_count": 621,
   "metadata": {},
   "outputs": [],
   "source": [
    "meantest = meantest.set_index(['floodlightOpenId', 'test'])\n",
    "meantest = meantest.reset_index()\n",
    "meantest = meantest.pivot(index='floodlightOpenId', columns='test', values=['val_mean', 'time_mean'])"
   ]
  },
  {
   "cell_type": "code",
   "execution_count": 643,
   "metadata": {},
   "outputs": [],
   "source": [
    "meantest.columns = [col[0]+col[1] for col in meantest.columns]"
   ]
  },
  {
   "cell_type": "code",
   "execution_count": 645,
   "metadata": {},
   "outputs": [
    {
     "data": {
      "text/html": [
       "<div>\n",
       "<style scoped>\n",
       "    .dataframe tbody tr th:only-of-type {\n",
       "        vertical-align: middle;\n",
       "    }\n",
       "\n",
       "    .dataframe tbody tr th {\n",
       "        vertical-align: top;\n",
       "    }\n",
       "\n",
       "    .dataframe thead th {\n",
       "        text-align: right;\n",
       "    }\n",
       "</style>\n",
       "<table border=\"1\" class=\"dataframe\">\n",
       "  <thead>\n",
       "    <tr style=\"text-align: right;\">\n",
       "      <th></th>\n",
       "      <th>val_meandaily_questionsmood_response</th>\n",
       "      <th>val_meandraw_a_shapebottom_to_top_hausdorff_distance_best</th>\n",
       "      <th>val_meandraw_a_shapecircle_hausdorff_distance_best</th>\n",
       "      <th>val_meandraw_a_shapefigure8_hausdorff_distance_best</th>\n",
       "      <th>val_meandraw_a_shapehand_used</th>\n",
       "      <th>val_meandraw_a_shapemean_hausdorff_distance_best</th>\n",
       "      <th>val_meandraw_a_shapenumber_shapes_drawn_correctly</th>\n",
       "      <th>val_meandraw_a_shapespiral_hausdorff_distance_best</th>\n",
       "      <th>val_meandraw_a_shapesquare_hausdorff_distance_best</th>\n",
       "      <th>val_meandraw_a_shapetop_to_bottom_hausdorff_distance_best</th>\n",
       "      <th>...</th>\n",
       "      <th>time_meanfive_u_turnturns</th>\n",
       "      <th>time_meanips_baselinecorrect_responses</th>\n",
       "      <th>time_meanips_baselineresponse_time_avg</th>\n",
       "      <th>time_meanipscorrect_responses</th>\n",
       "      <th>time_meanipsresponse_time_avg</th>\n",
       "      <th>time_meanmobilitylife_space_daily</th>\n",
       "      <th>time_meanpinchinghand_used</th>\n",
       "      <th>time_meanpinchingsuccessful_pinches</th>\n",
       "      <th>time_meanstatic_balancesway_path</th>\n",
       "      <th>time_meantwo_min_walksteps</th>\n",
       "    </tr>\n",
       "    <tr>\n",
       "      <th>floodlightOpenId</th>\n",
       "      <th></th>\n",
       "      <th></th>\n",
       "      <th></th>\n",
       "      <th></th>\n",
       "      <th></th>\n",
       "      <th></th>\n",
       "      <th></th>\n",
       "      <th></th>\n",
       "      <th></th>\n",
       "      <th></th>\n",
       "      <th></th>\n",
       "      <th></th>\n",
       "      <th></th>\n",
       "      <th></th>\n",
       "      <th></th>\n",
       "      <th></th>\n",
       "      <th></th>\n",
       "      <th></th>\n",
       "      <th></th>\n",
       "      <th></th>\n",
       "      <th></th>\n",
       "    </tr>\n",
       "  </thead>\n",
       "  <tbody>\n",
       "    <tr>\n",
       "      <th>FL00043910</th>\n",
       "      <td>3.2</td>\n",
       "      <td>0.435455</td>\n",
       "      <td>0.467273</td>\n",
       "      <td>0.463636</td>\n",
       "      <td>0.500000</td>\n",
       "      <td>0.438333</td>\n",
       "      <td>0.416667</td>\n",
       "      <td>0.496364</td>\n",
       "      <td>0.536364</td>\n",
       "      <td>0.455455</td>\n",
       "      <td>...</td>\n",
       "      <td>62.000000</td>\n",
       "      <td>16.0</td>\n",
       "      <td>16.0</td>\n",
       "      <td>16.0</td>\n",
       "      <td>16.0</td>\n",
       "      <td>0.0</td>\n",
       "      <td>31.083333</td>\n",
       "      <td>31.083333</td>\n",
       "      <td>31.250000</td>\n",
       "      <td>122.0</td>\n",
       "    </tr>\n",
       "    <tr>\n",
       "      <th>FL00088674</th>\n",
       "      <td>4.0</td>\n",
       "      <td>0.130000</td>\n",
       "      <td>0.140000</td>\n",
       "      <td>0.120000</td>\n",
       "      <td>1.000000</td>\n",
       "      <td>0.150000</td>\n",
       "      <td>2.000000</td>\n",
       "      <td>0.170000</td>\n",
       "      <td>0.230000</td>\n",
       "      <td>0.140000</td>\n",
       "      <td>...</td>\n",
       "      <td>61.000000</td>\n",
       "      <td>16.0</td>\n",
       "      <td>16.0</td>\n",
       "      <td>16.0</td>\n",
       "      <td>16.0</td>\n",
       "      <td>0.0</td>\n",
       "      <td>31.000000</td>\n",
       "      <td>31.000000</td>\n",
       "      <td>31.000000</td>\n",
       "      <td>NaN</td>\n",
       "    </tr>\n",
       "    <tr>\n",
       "      <th>FL00214638</th>\n",
       "      <td>NaN</td>\n",
       "      <td>20.000000</td>\n",
       "      <td>12.340000</td>\n",
       "      <td>12.340000</td>\n",
       "      <td>NaN</td>\n",
       "      <td>12.340000</td>\n",
       "      <td>NaN</td>\n",
       "      <td>12.340000</td>\n",
       "      <td>12.340000</td>\n",
       "      <td>12.340000</td>\n",
       "      <td>...</td>\n",
       "      <td>NaN</td>\n",
       "      <td>NaN</td>\n",
       "      <td>NaN</td>\n",
       "      <td>NaN</td>\n",
       "      <td>NaN</td>\n",
       "      <td>NaN</td>\n",
       "      <td>NaN</td>\n",
       "      <td>NaN</td>\n",
       "      <td>NaN</td>\n",
       "      <td>NaN</td>\n",
       "    </tr>\n",
       "    <tr>\n",
       "      <th>FL00277926</th>\n",
       "      <td>3.0</td>\n",
       "      <td>0.136667</td>\n",
       "      <td>0.140000</td>\n",
       "      <td>0.123333</td>\n",
       "      <td>0.666667</td>\n",
       "      <td>0.156667</td>\n",
       "      <td>2.333333</td>\n",
       "      <td>0.170000</td>\n",
       "      <td>0.230000</td>\n",
       "      <td>0.140000</td>\n",
       "      <td>...</td>\n",
       "      <td>61.666667</td>\n",
       "      <td>16.0</td>\n",
       "      <td>16.0</td>\n",
       "      <td>16.0</td>\n",
       "      <td>16.0</td>\n",
       "      <td>0.0</td>\n",
       "      <td>31.000000</td>\n",
       "      <td>31.000000</td>\n",
       "      <td>31.333333</td>\n",
       "      <td>123.0</td>\n",
       "    </tr>\n",
       "    <tr>\n",
       "      <th>FL00497704</th>\n",
       "      <td>3.0</td>\n",
       "      <td>0.130000</td>\n",
       "      <td>0.120000</td>\n",
       "      <td>0.130000</td>\n",
       "      <td>1.000000</td>\n",
       "      <td>0.150000</td>\n",
       "      <td>1.000000</td>\n",
       "      <td>0.160000</td>\n",
       "      <td>0.220000</td>\n",
       "      <td>0.130000</td>\n",
       "      <td>...</td>\n",
       "      <td>NaN</td>\n",
       "      <td>16.0</td>\n",
       "      <td>16.0</td>\n",
       "      <td>16.0</td>\n",
       "      <td>16.0</td>\n",
       "      <td>NaN</td>\n",
       "      <td>31.000000</td>\n",
       "      <td>31.000000</td>\n",
       "      <td>32.000000</td>\n",
       "      <td>NaN</td>\n",
       "    </tr>\n",
       "  </tbody>\n",
       "</table>\n",
       "<p>5 rows × 42 columns</p>\n",
       "</div>"
      ],
      "text/plain": [
       "                  val_meandaily_questionsmood_response  \\\n",
       "floodlightOpenId                                         \n",
       "FL00043910                                         3.2   \n",
       "FL00088674                                         4.0   \n",
       "FL00214638                                         NaN   \n",
       "FL00277926                                         3.0   \n",
       "FL00497704                                         3.0   \n",
       "\n",
       "                  val_meandraw_a_shapebottom_to_top_hausdorff_distance_best  \\\n",
       "floodlightOpenId                                                              \n",
       "FL00043910                                                 0.435455           \n",
       "FL00088674                                                 0.130000           \n",
       "FL00214638                                                20.000000           \n",
       "FL00277926                                                 0.136667           \n",
       "FL00497704                                                 0.130000           \n",
       "\n",
       "                  val_meandraw_a_shapecircle_hausdorff_distance_best  \\\n",
       "floodlightOpenId                                                       \n",
       "FL00043910                                                 0.467273    \n",
       "FL00088674                                                 0.140000    \n",
       "FL00214638                                                12.340000    \n",
       "FL00277926                                                 0.140000    \n",
       "FL00497704                                                 0.120000    \n",
       "\n",
       "                  val_meandraw_a_shapefigure8_hausdorff_distance_best  \\\n",
       "floodlightOpenId                                                        \n",
       "FL00043910                                                 0.463636     \n",
       "FL00088674                                                 0.120000     \n",
       "FL00214638                                                12.340000     \n",
       "FL00277926                                                 0.123333     \n",
       "FL00497704                                                 0.130000     \n",
       "\n",
       "                  val_meandraw_a_shapehand_used  \\\n",
       "floodlightOpenId                                  \n",
       "FL00043910                             0.500000   \n",
       "FL00088674                             1.000000   \n",
       "FL00214638                                  NaN   \n",
       "FL00277926                             0.666667   \n",
       "FL00497704                             1.000000   \n",
       "\n",
       "                  val_meandraw_a_shapemean_hausdorff_distance_best  \\\n",
       "floodlightOpenId                                                     \n",
       "FL00043910                                                0.438333   \n",
       "FL00088674                                                0.150000   \n",
       "FL00214638                                               12.340000   \n",
       "FL00277926                                                0.156667   \n",
       "FL00497704                                                0.150000   \n",
       "\n",
       "                  val_meandraw_a_shapenumber_shapes_drawn_correctly  \\\n",
       "floodlightOpenId                                                      \n",
       "FL00043910                                                 0.416667   \n",
       "FL00088674                                                 2.000000   \n",
       "FL00214638                                                      NaN   \n",
       "FL00277926                                                 2.333333   \n",
       "FL00497704                                                 1.000000   \n",
       "\n",
       "                  val_meandraw_a_shapespiral_hausdorff_distance_best  \\\n",
       "floodlightOpenId                                                       \n",
       "FL00043910                                                 0.496364    \n",
       "FL00088674                                                 0.170000    \n",
       "FL00214638                                                12.340000    \n",
       "FL00277926                                                 0.170000    \n",
       "FL00497704                                                 0.160000    \n",
       "\n",
       "                  val_meandraw_a_shapesquare_hausdorff_distance_best  \\\n",
       "floodlightOpenId                                                       \n",
       "FL00043910                                                 0.536364    \n",
       "FL00088674                                                 0.230000    \n",
       "FL00214638                                                12.340000    \n",
       "FL00277926                                                 0.230000    \n",
       "FL00497704                                                 0.220000    \n",
       "\n",
       "                  val_meandraw_a_shapetop_to_bottom_hausdorff_distance_best  \\\n",
       "floodlightOpenId                                                              \n",
       "FL00043910                                                 0.455455           \n",
       "FL00088674                                                 0.140000           \n",
       "FL00214638                                                12.340000           \n",
       "FL00277926                                                 0.140000           \n",
       "FL00497704                                                 0.130000           \n",
       "\n",
       "                  ...  time_meanfive_u_turnturns  \\\n",
       "floodlightOpenId  ...                              \n",
       "FL00043910        ...                  62.000000   \n",
       "FL00088674        ...                  61.000000   \n",
       "FL00214638        ...                        NaN   \n",
       "FL00277926        ...                  61.666667   \n",
       "FL00497704        ...                        NaN   \n",
       "\n",
       "                  time_meanips_baselinecorrect_responses  \\\n",
       "floodlightOpenId                                           \n",
       "FL00043910                                          16.0   \n",
       "FL00088674                                          16.0   \n",
       "FL00214638                                           NaN   \n",
       "FL00277926                                          16.0   \n",
       "FL00497704                                          16.0   \n",
       "\n",
       "                  time_meanips_baselineresponse_time_avg  \\\n",
       "floodlightOpenId                                           \n",
       "FL00043910                                          16.0   \n",
       "FL00088674                                          16.0   \n",
       "FL00214638                                           NaN   \n",
       "FL00277926                                          16.0   \n",
       "FL00497704                                          16.0   \n",
       "\n",
       "                  time_meanipscorrect_responses  \\\n",
       "floodlightOpenId                                  \n",
       "FL00043910                                 16.0   \n",
       "FL00088674                                 16.0   \n",
       "FL00214638                                  NaN   \n",
       "FL00277926                                 16.0   \n",
       "FL00497704                                 16.0   \n",
       "\n",
       "                  time_meanipsresponse_time_avg  \\\n",
       "floodlightOpenId                                  \n",
       "FL00043910                                 16.0   \n",
       "FL00088674                                 16.0   \n",
       "FL00214638                                  NaN   \n",
       "FL00277926                                 16.0   \n",
       "FL00497704                                 16.0   \n",
       "\n",
       "                  time_meanmobilitylife_space_daily  \\\n",
       "floodlightOpenId                                      \n",
       "FL00043910                                      0.0   \n",
       "FL00088674                                      0.0   \n",
       "FL00214638                                      NaN   \n",
       "FL00277926                                      0.0   \n",
       "FL00497704                                      NaN   \n",
       "\n",
       "                  time_meanpinchinghand_used  \\\n",
       "floodlightOpenId                               \n",
       "FL00043910                         31.083333   \n",
       "FL00088674                         31.000000   \n",
       "FL00214638                               NaN   \n",
       "FL00277926                         31.000000   \n",
       "FL00497704                         31.000000   \n",
       "\n",
       "                  time_meanpinchingsuccessful_pinches  \\\n",
       "floodlightOpenId                                        \n",
       "FL00043910                                  31.083333   \n",
       "FL00088674                                  31.000000   \n",
       "FL00214638                                        NaN   \n",
       "FL00277926                                  31.000000   \n",
       "FL00497704                                  31.000000   \n",
       "\n",
       "                  time_meanstatic_balancesway_path  time_meantwo_min_walksteps  \n",
       "floodlightOpenId                                                                \n",
       "FL00043910                               31.250000                       122.0  \n",
       "FL00088674                               31.000000                         NaN  \n",
       "FL00214638                                     NaN                         NaN  \n",
       "FL00277926                               31.333333                       123.0  \n",
       "FL00497704                               32.000000                         NaN  \n",
       "\n",
       "[5 rows x 42 columns]"
      ]
     },
     "execution_count": 645,
     "metadata": {},
     "output_type": "execute_result"
    }
   ],
   "source": [
    "meantest.head()"
   ]
  },
  {
   "cell_type": "code",
   "execution_count": 651,
   "metadata": {},
   "outputs": [
    {
     "ename": "NameError",
     "evalue": "name 'maindf' is not defined",
     "output_type": "error",
     "traceback": [
      "\u001b[0;31m---------------------------------------------------------------------------\u001b[0m",
      "\u001b[0;31mNameError\u001b[0m                                 Traceback (most recent call last)",
      "\u001b[0;32m<ipython-input-651-7684d71c1778>\u001b[0m in \u001b[0;36m<module>\u001b[0;34m\u001b[0m\n\u001b[0;32m----> 1\u001b[0;31m \u001b[0mpd\u001b[0m\u001b[0;34m.\u001b[0m\u001b[0misnull\u001b[0m\u001b[0;34m(\u001b[0m\u001b[0mmaindf\u001b[0m\u001b[0;34m)\u001b[0m\u001b[0;34m.\u001b[0m\u001b[0msum\u001b[0m\u001b[0;34m(\u001b[0m\u001b[0;34m)\u001b[0m \u001b[0;34m>\u001b[0m \u001b[0;36m500\u001b[0m\u001b[0;34m\u001b[0m\u001b[0;34m\u001b[0m\u001b[0m\n\u001b[0m",
      "\u001b[0;31mNameError\u001b[0m: name 'maindf' is not defined"
     ]
    }
   ],
   "source": [
    "pd.isnull(maindf).sum() > 500"
   ]
  },
  {
   "cell_type": "code",
   "execution_count": null,
   "metadata": {},
   "outputs": [],
   "source": []
  }
 ],
 "metadata": {
  "kernelspec": {
   "display_name": "Python 3",
   "language": "python",
   "name": "python3"
  },
  "language_info": {
   "codemirror_mode": {
    "name": "ipython",
    "version": 3
   },
   "file_extension": ".py",
   "mimetype": "text/x-python",
   "name": "python",
   "nbconvert_exporter": "python",
   "pygments_lexer": "ipython3",
   "version": "3.7.3"
  }
 },
 "nbformat": 4,
 "nbformat_minor": 2
}
